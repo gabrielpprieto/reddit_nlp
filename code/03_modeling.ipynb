{
 "cells": [
  {
   "cell_type": "markdown",
   "metadata": {},
   "source": [
    "# Project 3: `Web API's` & `Classification`\n",
    "---\n",
    "_Gabriel Perez Prieto_  "
   ]
  },
  {
   "cell_type": "markdown",
   "metadata": {},
   "source": [
    "### 03_Modeling\n",
    "---"
   ]
  },
  {
   "cell_type": "markdown",
   "metadata": {},
   "source": [
    "#### Import Libraries"
   ]
  },
  {
   "cell_type": "code",
   "execution_count": 2,
   "metadata": {},
   "outputs": [],
   "source": [
    "import pandas as pd\n",
    "import numpy as np\n",
    "import seaborn as sns\n",
    "import matplotlib.pyplot as plt\n",
    "%matplotlib inline\n",
    "\n",
    "from nltk.tokenize import RegexpTokenizer\n",
    "from nltk import WordNetLemmatizer\n",
    "from nltk.stem import PorterStemmer\n",
    "\n",
    "from sklearn.compose import ColumnTransformer\n",
    "from sklearn.ensemble import BaggingClassifier\n",
    "\n",
    "from sklearn.feature_extraction.text import CountVectorizer, TfidfVectorizer\n",
    "from sklearn.model_selection import train_test_split, cross_val_score, GridSearchCV, RandomizedSearchCV\n",
    "from sklearn.pipeline import Pipeline\n",
    "from sklearn.linear_model import LogisticRegression\n",
    "from sklearn.neighbors import KNeighborsClassifier\n",
    "from sklearn.naive_bayes import MultinomialNB\n",
    "from sklearn.tree import DecisionTreeClassifier\n",
    "from sklearn.ensemble import RandomForestClassifier, ExtraTreesClassifier\n",
    "from sklearn.svm import SVC\n",
    "\n",
    "from sklearn.metrics import confusion_matrix\n",
    "from sklearn.metrics import accuracy_score\n",
    "\n",
    "# Do not display future warnings\n",
    "import warnings\n",
    "warnings.simplefilter(action='ignore', category=FutureWarning)\n",
    "\n",
    "# Set max_columns display to 500\n",
    "pd.set_option('display.max_columns', 500)"
   ]
  },
  {
   "cell_type": "markdown",
   "metadata": {},
   "source": [
    "#### Load Clean Data"
   ]
  },
  {
   "cell_type": "code",
   "execution_count": 3,
   "metadata": {},
   "outputs": [],
   "source": [
    "df = pd.read_csv('./data/reddit_clean.csv')"
   ]
  },
  {
   "cell_type": "code",
   "execution_count": 4,
   "metadata": {},
   "outputs": [
    {
     "data": {
      "text/plain": [
       "(9664, 9)"
      ]
     },
     "execution_count": 4,
     "metadata": {},
     "output_type": "execute_result"
    }
   ],
   "source": [
    "# Check shape\n",
    "df.shape"
   ]
  },
  {
   "cell_type": "code",
   "execution_count": 5,
   "metadata": {},
   "outputs": [
    {
     "data": {
      "text/html": [
       "<div>\n",
       "<style scoped>\n",
       "    .dataframe tbody tr th:only-of-type {\n",
       "        vertical-align: middle;\n",
       "    }\n",
       "\n",
       "    .dataframe tbody tr th {\n",
       "        vertical-align: top;\n",
       "    }\n",
       "\n",
       "    .dataframe thead th {\n",
       "        text-align: right;\n",
       "    }\n",
       "</style>\n",
       "<table border=\"1\" class=\"dataframe\">\n",
       "  <thead>\n",
       "    <tr style=\"text-align: right;\">\n",
       "      <th></th>\n",
       "      <th>author</th>\n",
       "      <th>body</th>\n",
       "      <th>score</th>\n",
       "      <th>subreddit</th>\n",
       "      <th>created_date</th>\n",
       "      <th>target</th>\n",
       "      <th>tokens</th>\n",
       "      <th>avg_word_len</th>\n",
       "      <th>num_words</th>\n",
       "    </tr>\n",
       "  </thead>\n",
       "  <tbody>\n",
       "    <tr>\n",
       "      <td>0</td>\n",
       "      <td>ThisIsMyRental</td>\n",
       "      <td>My, my, my, you've outdone yourself friend! It...</td>\n",
       "      <td>1</td>\n",
       "      <td>vegan</td>\n",
       "      <td>2019-10-17 20:01:40</td>\n",
       "      <td>1</td>\n",
       "      <td>['My', 'my', 'my', 'you', 've', 'outdone', 'yo...</td>\n",
       "      <td>4.266667</td>\n",
       "      <td>15</td>\n",
       "    </tr>\n",
       "  </tbody>\n",
       "</table>\n",
       "</div>"
      ],
      "text/plain": [
       "           author                                               body  score  \\\n",
       "0  ThisIsMyRental  My, my, my, you've outdone yourself friend! It...      1   \n",
       "\n",
       "  subreddit         created_date  target  \\\n",
       "0     vegan  2019-10-17 20:01:40       1   \n",
       "\n",
       "                                              tokens  avg_word_len  num_words  \n",
       "0  ['My', 'my', 'my', 'you', 've', 'outdone', 'yo...      4.266667         15  "
      ]
     },
     "execution_count": 5,
     "metadata": {},
     "output_type": "execute_result"
    }
   ],
   "source": [
    "df.head(1)"
   ]
  },
  {
   "cell_type": "code",
   "execution_count": 4,
   "metadata": {},
   "outputs": [],
   "source": [
    "# Duplciate DataFrame to be used as model1\n",
    "df_model_1 = df"
   ]
  },
  {
   "cell_type": "markdown",
   "metadata": {},
   "source": [
    "#### Create Classes to Lemmatize / Stem Text "
   ]
  },
  {
   "cell_type": "code",
   "execution_count": 5,
   "metadata": {},
   "outputs": [],
   "source": [
    "# Create classes to be used on pipeline / randomsearchCV\n",
    "class Lemmatizer(object):\n",
    "    def __init__(self):\n",
    "        self.wnl = WordNetLemmatizer()\n",
    "    def __call__(self, doc):\n",
    "        tokenizer = RegexpTokenizer('(?u)\\\\b\\\\w\\\\w+\\\\b')\n",
    "        return [self.wnl.lemmatize(t) for t in tokenizer.tokenize(doc)]\n",
    "\n",
    "class Stemmer(object):\n",
    "    def __init__(self):\n",
    "        self.wnl = PorterStemmer()\n",
    "    def __call__(self, doc):\n",
    "        tokenizer = RegexpTokenizer('(?u)\\\\b\\\\w\\\\w+\\\\b')\n",
    "        return [self.wnl.stem(t) for t in tokenizer.tokenize(doc)]\n",
    "    \n",
    "# Adapted from:\n",
    "# https://stackoverflow.com/questions/23980755/scikit-learn-grid-search-with-custom-countvectorizer-tokenizer"
   ]
  },
  {
   "cell_type": "markdown",
   "metadata": {},
   "source": [
    "#### Define X ( features ) and y ( target )"
   ]
  },
  {
   "cell_type": "code",
   "execution_count": 6,
   "metadata": {},
   "outputs": [],
   "source": [
    "X = df_model_1[['body', 'avg_word_len', 'num_words']]\n",
    "y = df_model_1['target']"
   ]
  },
  {
   "cell_type": "markdown",
   "metadata": {},
   "source": [
    "#### Establishing Baseline Score - Compare to Models Created"
   ]
  },
  {
   "cell_type": "code",
   "execution_count": 7,
   "metadata": {},
   "outputs": [
    {
     "data": {
      "text/plain": [
       "1    0.500414\n",
       "0    0.499586\n",
       "Name: target, dtype: float64"
      ]
     },
     "execution_count": 7,
     "metadata": {},
     "output_type": "execute_result"
    }
   ],
   "source": [
    "# 50.04% Accuracy\n",
    "y.value_counts(normalize=True)"
   ]
  },
  {
   "cell_type": "markdown",
   "metadata": {},
   "source": [
    "#### Train Test Split"
   ]
  },
  {
   "cell_type": "code",
   "execution_count": 8,
   "metadata": {},
   "outputs": [],
   "source": [
    "X_train, X_test, y_train, y_test = train_test_split(X, y,\n",
    "                                                    random_state = 42,\n",
    "                                                    stratify=y,\n",
    "                                                    test_size = 0.25)"
   ]
  },
  {
   "cell_type": "markdown",
   "metadata": {},
   "source": [
    "### Section 1 - Set up Pipelines for Different Models  to be Tested\n",
    "---"
   ]
  },
  {
   "cell_type": "markdown",
   "metadata": {},
   "source": [
    "#### Pipelines w/ Classifiers and Transformers"
   ]
  },
  {
   "cell_type": "markdown",
   "metadata": {},
   "source": [
    "#### Set up Pipelines w/ CountVectorizer"
   ]
  },
  {
   "cell_type": "code",
   "execution_count": 21,
   "metadata": {},
   "outputs": [],
   "source": [
    "# CountVectorizer + LogisticRegression (1.1)\n",
    "pipe_cvec_logreg = Pipeline([\n",
    "    ('ct', ColumnTransformer([('cvec', CountVectorizer(), 'body')])),  # Instantiate transformer\n",
    "    ('logreg', LogisticRegression()),                                  # Instantiante estimator\n",
    "])\n",
    "\n",
    "# CountVectorizer + K Nearest Neighbor (1.2)\n",
    "pipe_cvec_knn = Pipeline([             \n",
    "    ('ct', ColumnTransformer([('cvec', CountVectorizer(), 'body')])),  # Instantiate transformer\n",
    "    ('knn', KNeighborsClassifier())                                    # Instantiante estimator\n",
    "])\n",
    "\n",
    "# CountVectorizer + Naive Bayes (1.3)\n",
    "pipe_cvec_mnb = Pipeline([             \n",
    "    ('ct', ColumnTransformer([('cvec', CountVectorizer(), 'body')])),  # Instantiate transformer\n",
    "    ('mnb', MultinomialNB())                                           # Instantiante estimator\n",
    "])\n",
    "\n",
    "# CountVectorizer + Decision Tree (1.4)\n",
    "pipe_cvec_dt = Pipeline([              \n",
    "    ('ct', ColumnTransformer([('cvec', CountVectorizer(), 'body')])),  # Instantiate transformer\n",
    "    ('dt', DecisionTreeClassifier())                                   # Instantiante estimator\n",
    "])\n",
    "\n",
    "# CountVectorizer + Random Forest (1.5)      \n",
    "pipe_cvec_rf = Pipeline([ \n",
    "('ct', ColumnTransformer([('cvec', CountVectorizer(), 'body')])),      # Instantiate transformer\n",
    "('rf', RandomForestClassifier())                                       # Instantiante estimator\n",
    "])\n",
    "\n",
    "# CountVectorizer + Suported Vector Classifier (1.6) \n",
    "pipe_cvec_svc = Pipeline([ \n",
    "('ct', ColumnTransformer([('cvec', CountVectorizer(), 'body')])),      # Instantiate transformer\n",
    "('svc', SVC())                                                         # Instantiante estimator\n",
    "])"
   ]
  },
  {
   "cell_type": "markdown",
   "metadata": {},
   "source": [
    "#### Set up Pipelines w/ TfidfVectorizer"
   ]
  },
  {
   "cell_type": "code",
   "execution_count": 32,
   "metadata": {},
   "outputs": [],
   "source": [
    "# TfidfVectorizer + LogisticRegression (2.1)\n",
    "pipe_tfidf_logreg = Pipeline([         \n",
    "    ('ct', ColumnTransformer([('tfidf', TfidfVectorizer(), 'body')])), # Instantiate transformer\n",
    "    ('logreg', LogisticRegression())                                   # Instantiante estimator\n",
    "])\n",
    "\n",
    "# TfidfVectorizer + K Nearest Neighbor (2.2)\n",
    "pipe_tfidf_knn = Pipeline([            \n",
    "    ('ct', ColumnTransformer([('tfidf', TfidfVectorizer(), 'body')])), # Instantiate transformer\n",
    "    ('knn', KNeighborsClassifier())                                    # Instantiante estimator\n",
    "])\n",
    "\n",
    "# TfidfVectorizer + Naive Bayes (2.3)\n",
    "pipe_tfidf_mnb = Pipeline([            \n",
    "    ('ct', ColumnTransformer([('tfidf', TfidfVectorizer(), 'body')])), # Instantiate transformer\n",
    "    ('mnb', MultinomialNB())                                           # Instantiante estimator\n",
    "])\n",
    "\n",
    "# TfidfVectorizer + Decision Tree (2.4)\n",
    "pipe_tfidf_dt = Pipeline([             \n",
    "    ('ct', ColumnTransformer([('tfidf', TfidfVectorizer(), 'body')])), # Instantiate transformer\n",
    "    ('dt', DecisionTreeClassifier())                                   # Instantiante estimator\n",
    "])\n",
    "\n",
    "# TfidfVectorizer + Random Forest (2.5)      \n",
    "pipe_tfidf_rf = Pipeline([ \n",
    "('ct', ColumnTransformer([('tfidf', TfidfVectorizer(), 'body')])),     # Instantiate transformer\n",
    "('rf', RandomForestClassifier())                                       # Instantiante estimator\n",
    "])  \n",
    "\n",
    "# TfidfVectorizer + Suported Vector Classifier (2.6) \n",
    "pipe_tfidf_svc = Pipeline([ \n",
    "('ct', ColumnTransformer([('tfidf', TfidfVectorizer(), 'body')])),      # Instantiate transformer\n",
    "('svc', SVC())                                                         # Instantiante estimator\n",
    "])"
   ]
  },
  {
   "cell_type": "markdown",
   "metadata": {},
   "source": [
    "#### Set up parameters for GridSearchCV, RandomizedSearchCV ( Count Vectorizer )"
   ]
  },
  {
   "cell_type": "code",
   "execution_count": 23,
   "metadata": {},
   "outputs": [],
   "source": [
    "params_cvec_logreg = {\n",
    "    'ct__cvec__tokenizer': [Lemmatizer(), Stemmer(), None],\n",
    "    'ct__cvec__max_features' : [1500, 2000, 2500],\n",
    "    'ct__cvec__stop_words': ['english', None],\n",
    "    'ct__cvec__ngram_range': [(1,1), (1,2), (1,3)],\n",
    "    'ct__cvec__max_df': [.85, 0.9, 0.95],\n",
    "    'ct__cvec__min_df': [1, 2, 3, 4],\n",
    "    'logreg__penalty': ['l1', 'l2'],\n",
    "    'logreg__C': [0.01, 0.1, 1],\n",
    "}\n",
    "\n",
    "params_cvec_knn = {\n",
    "    'ct__cvec__tokenizer': [Lemmatizer(), Stemmer(), None],\n",
    "    'ct__cvec__max_features' : [1500, 2000, 2500],\n",
    "    'ct__cvec__stop_words': ['english', None],\n",
    "    'ct__cvec__ngram_range': [(1,1), (1,2), (1,3)],\n",
    "    'ct__cvec__max_df': [.85, 0.9, 0.95],\n",
    "    'ct__cvec__min_df': [1, 2, 3, 4],\n",
    "    'knn__n_neighbors': [5, 7],\n",
    "    'knn__p': [2]\n",
    "}\n",
    "\n",
    "params_cvec_mnb = {\n",
    "    'ct__cvec__tokenizer': [Lemmatizer(), Stemmer(), None],\n",
    "    'ct__cvec__max_features' : [1500, 2000, 2500],\n",
    "    'ct__cvec__stop_words': ['english', None],\n",
    "    'ct__cvec__ngram_range': [(1,1), (1,2), (1,3)],\n",
    "    'ct__cvec__max_df': [.85, 0.9, 0.95],\n",
    "    'ct__cvec__min_df': [1, 2, 3, 4],\n",
    "    'mnb__alpha': [1, .9, .8],\n",
    "}\n",
    "\n",
    "params_cvec_dt = {\n",
    "    'ct__cvec__tokenizer': [Lemmatizer(), Stemmer(), None],\n",
    "    'ct__cvec__max_features' : [1500, 2000, 2500],\n",
    "    'ct__cvec__stop_words': ['english', None],\n",
    "    'ct__cvec__ngram_range': [(1,1), (1,2), (1,3)],\n",
    "    'ct__cvec__max_df': [.85, 0.9, 0.95],\n",
    "    'ct__cvec__min_df': [1, 2, 3, 4],\n",
    "    'dt__max_depth' : [3, 4],\n",
    "    'dt__min_samples_split': [2, 3],\n",
    "    'dt__min_samples_leaf': [2 ,3]\n",
    "}\n",
    "\n",
    "params_cvec_rf = {\n",
    "    'ct__cvec__tokenizer': [Lemmatizer(), Stemmer(), None],\n",
    "    'ct__cvec__max_features' : [1500, 2000, 2500],\n",
    "    'ct__cvec__stop_words': ['english', None],\n",
    "    'ct__cvec__ngram_range': [(1,1), (1,2), (1,3)],\n",
    "    'ct__cvec__max_df': [.85, 0.9, 0.95],\n",
    "    'ct__cvec__min_df': [1, 2, 3, 4],\n",
    "    'rf__max_depth' : [3, 4],\n",
    "    'rf__min_samples_split': [2, 3],\n",
    "    'rf__min_samples_leaf': [2, 3],\n",
    "    'rf__n_estimators': [6, 10],\n",
    "    'rf__max_features': [None, 3, 4]\n",
    "}\n",
    "\n",
    "params_cvec_svc = {\n",
    "    'ct__cvec__tokenizer': [Lemmatizer(), Stemmer(), None],\n",
    "    'ct__cvec__max_features' : [1500, 2000, 2500],\n",
    "    'ct__cvec__stop_words': ['english', None],\n",
    "    'ct__cvec__ngram_range': [(1,1), (1,2), (1,3)],\n",
    "    'ct__cvec__max_df': [.85, 0.9, 0.95],\n",
    "    'ct__cvec__min_df': [1, 2, 3, 4],\n",
    "    'svc__kernel': ['linear', 'rbf', 'poly'],\n",
    "    'svc__C': np.logspace(-2, 1, 30)\n",
    "}"
   ]
  },
  {
   "cell_type": "markdown",
   "metadata": {},
   "source": [
    "#### Set up parameters for GridSearchCV, RandomizedSearchCV ( Tfidf Vectorizer )"
   ]
  },
  {
   "cell_type": "code",
   "execution_count": 24,
   "metadata": {},
   "outputs": [],
   "source": [
    "params_tfidf_logreg = {\n",
    "    'ct__tfidf__tokenizer': [Lemmatizer(), Stemmer(), None],\n",
    "    'ct__tfidf__max_features' : [1500, 2000, 2500],\n",
    "    'ct__tfidf__stop_words': ['english', None],\n",
    "    'ct__tfidf__ngram_range': [(1,1), (1,2), (1,3)],\n",
    "    'ct__tfidf__max_df': [.85, 0.9, 0.95],\n",
    "    'ct__tfidf__min_df': [1, 2, 3, 4],\n",
    "    'logreg__penalty': ['l2'],\n",
    "    'logreg__C': [0.01, 0.1],\n",
    "}\n",
    "\n",
    "params_tfidf_knn = {\n",
    "    'ct__tfidf__tokenizer': [Lemmatizer(), Stemmer(), None],\n",
    "    'ct__tfidf__max_features' : [1500, 2000, 2500],\n",
    "    'ct__tfidf__stop_words': ['english', None],\n",
    "    'ct__tfidf__ngram_range': [(1,1), (1,2), (1,3)],\n",
    "    'ct__tfidf__max_df': [.85, 0.9, 0.95],\n",
    "    'ct__tfidf__min_df': [1, 2, 3, 4],\n",
    "    'knn__n_neighbors': [3, 5, 7],\n",
    "    'knn__p': [1, 2]\n",
    "}\n",
    "\n",
    "params_tfidf_mnb = {\n",
    "    'ct__tfidf__tokenizer': [Lemmatizer(), Stemmer(), None],\n",
    "    'ct__tfidf__max_features' : [1500, 2000, 2500],\n",
    "    'ct__tfidf__stop_words': ['english', None],\n",
    "    'ct__tfidf__ngram_range': [(1,1), (1,2), (1,3)],\n",
    "    'ct__tfidf__max_df': [.85, 0.9, 0.95],\n",
    "    'ct__tfidf__min_df': [1, 2, 3, 4],\n",
    "    'mnb__alpha': [1, .9, .8]\n",
    "}\n",
    "\n",
    "params_tfidf_dt = {\n",
    "    'ct__tfidf__tokenizer': [Lemmatizer(), Stemmer(), None],\n",
    "    'ct__tfidf__max_features' : [1500, 2000, 2500],\n",
    "    'ct__tfidf__stop_words': ['english', None],\n",
    "    'ct__tfidf__ngram_range': [(1,1), (1,2), (1,3)],\n",
    "    'ct__tfidf__max_df': [.85, 0.9, 0.95],\n",
    "    'ct__tfidf__min_df': [1, 2, 3, 4],\n",
    "    'dt__max_depth' : [3, 4],\n",
    "    'dt__min_samples_split': [2, 3],\n",
    "    'dt__min_samples_leaf': [2, 3]\n",
    "}\n",
    "\n",
    "params_tfidf_rf = {\n",
    "    'ct__tfidf__tokenizer': [Lemmatizer(), Stemmer(), None],\n",
    "    'ct__tfidf__max_features' : [1500, 2000, 2500],\n",
    "    'ct__tfidf__stop_words': ['english', None],\n",
    "    'ct__tfidf__ngram_range': [(1,1), (1,2), (1,3)],\n",
    "    'ct__tfidf__max_df': [.85, 0.9, 0.95],\n",
    "    'ct__tfidf__min_df': [1, 2, 3, 4],\n",
    "    'rf__max_depth' : [3, 4],\n",
    "    'rf__min_samples_split': [2, 3],\n",
    "    'rf__min_samples_leaf': [2, 3],\n",
    "    'rf__n_estimators': [6, 10],\n",
    "    'rf__max_features': [None, 3, 4]\n",
    "}\n",
    "\n",
    "params_tfidf_svc = {\n",
    "    'ct__tfidf__tokenizer': [Lemmatizer(), Stemmer(), None],\n",
    "    'ct__tfidf__max_features' : [1500, 2000, 2500],\n",
    "    'ct__tfidf__stop_words': ['english', None],\n",
    "    'ct__tfidf__ngram_range': [(1,1), (1,2), (1,3)],\n",
    "    'ct__tfidf__max_df': [.85, 0.9, 0.95],\n",
    "    'ct__tfidf__min_df': [1, 2, 3, 4],\n",
    "    'svc__kernel': ['linear', 'rbf', 'poly'],\n",
    "    'svc__C': np.logspace(-2, 1, 30)\n",
    "}"
   ]
  },
  {
   "cell_type": "code",
   "execution_count": 13,
   "metadata": {},
   "outputs": [],
   "source": [
    "# Instantiate a dictionary to house Models' Scores\n",
    "results = {}"
   ]
  },
  {
   "cell_type": "markdown",
   "metadata": {},
   "source": [
    "#### Function to Run All Different Models and Print Results"
   ]
  },
  {
   "cell_type": "code",
   "execution_count": 14,
   "metadata": {},
   "outputs": [],
   "source": [
    "# Define function to run Pipeline + RandomizedSearchCV\n",
    "def run_model_rs(pipeline, parameters, cv=3, model_name=''):\n",
    "    \n",
    "    # Instantiate RandomizedSearchCV\n",
    "    rs = RandomizedSearchCV(pipeline,\n",
    "                            parameters,\n",
    "                            cv=cv,\n",
    "                            verbose=1,\n",
    "                            n_jobs=-1,\n",
    "                            n_iter=20)\n",
    "       \n",
    "    # Fit GridSearch to training data\n",
    "    rs.fit(X_train, y_train)\n",
    "    \n",
    "    # Best mean score out of cross validation out of all models tested (cvec)\n",
    "    print(f'Best Score: {rs.best_score_}')\n",
    "    \n",
    "    # Best Paramenters\n",
    "    print(f'Best Parameters: {rs.best_params_}')\n",
    "    \n",
    "    # Save best model as gs_cvec_logreg_model\n",
    "    rs_model = rs.best_estimator_\n",
    "    \n",
    "    # Score model on training set.\n",
    "    print(f'Training Accuracy Score: {rs_model.score(X_train, y_train)}')\n",
    "    \n",
    "    # Score model on testing set.\n",
    "    print(f'Testing Accuracy Score: {rs_model.score(X_test, y_test)}')\n",
    "    \n",
    "    # Predictions\n",
    "    pred = rs_model.predict(X_test)\n",
    "    \n",
    "    # Confusion Matrix\n",
    "    cm_df = pd.DataFrame(confusion_matrix(y_test, pred),\n",
    "                         columns=['pred_vegetarian', 'pred_vegan'],\n",
    "                         index=['actual_vegetarian', 'actual_vegan'])\n",
    "    print('Confusion Matrix:')\n",
    "    print(cm_df)\n",
    "    print(' ')\n",
    "    \n",
    "    tn, fp, fn, tp = confusion_matrix(y_test, pred).ravel()\n",
    "    \n",
    "    # Print different metrics\n",
    "    accuracy = (tp + tn) / (tp + tn + fp + fn)\n",
    "    print(f'Accuracy: {accuracy}')\n",
    "    \n",
    "    misclassification = 1 - accuracy\n",
    "    print(f'Misclassification: {misclassification}') \n",
    "    \n",
    "    sensitivity = tp / (tp + fn)\n",
    "    print(f'Sensitivity: {sensitivity}')\n",
    "    \n",
    "    specificity = tn / (tn + fp)\n",
    "    print(f'Specificity: {specificity}')\n",
    "    \n",
    "    precision = tp / (tp + fp)\n",
    "    print(f'Precision: {precision}')\n",
    "    \n",
    "    # 'Append' accuracy scores to 'results' dictinoary\n",
    "    results[model_name] = [rs_model.score(X_train, y_train), rs_model.score(X_test, y_test),\n",
    "                           misclassification, sensitivity, specificity, precision]"
   ]
  },
  {
   "cell_type": "markdown",
   "metadata": {},
   "source": [
    "#### ( 1.1 ) CountVectorizer + LogisticRegression"
   ]
  },
  {
   "cell_type": "code",
   "execution_count": 15,
   "metadata": {},
   "outputs": [
    {
     "name": "stdout",
     "output_type": "stream",
     "text": [
      "Fitting 3 folds for each of 20 candidates, totalling 60 fits\n"
     ]
    },
    {
     "name": "stderr",
     "output_type": "stream",
     "text": [
      "[Parallel(n_jobs=-1)]: Using backend LokyBackend with 4 concurrent workers.\n",
      "/Users/gabrielperezprieto/anaconda3/lib/python3.7/site-packages/sklearn/externals/joblib/externals/loky/process_executor.py:706: UserWarning: A worker stopped while some jobs were given to the executor. This can be caused by a too short worker timeout or by a memory leak.\n",
      "  \"timeout or by a memory leak.\", UserWarning\n",
      "[Parallel(n_jobs=-1)]: Done  42 tasks      | elapsed:  1.5min\n",
      "[Parallel(n_jobs=-1)]: Done  60 out of  60 | elapsed:  2.3min finished\n"
     ]
    },
    {
     "name": "stdout",
     "output_type": "stream",
     "text": [
      "Best Score: 0.7004690949227373\n",
      "Best Parameters: {'logreg__penalty': 'l2', 'logreg__C': 0.01, 'ct__cvec__tokenizer': <__main__.Lemmatizer object at 0x1096fbed0>, 'ct__cvec__stop_words': None, 'ct__cvec__ngram_range': (1, 1), 'ct__cvec__min_df': 3, 'ct__cvec__max_features': 1500, 'ct__cvec__max_df': 0.9}\n",
      "Training Accuracy Score: 0.7393763796909493\n",
      "Testing Accuracy Score: 0.7135761589403974\n",
      "Confusion Matrix:\n",
      "                   pred_vegetarian  pred_vegan\n",
      "actual_vegetarian              826         381\n",
      "actual_vegan                   311         898\n",
      " \n",
      "Accuracy: 0.7135761589403974\n",
      "Misclassification: 0.2864238410596026\n",
      "Sensitivity: 0.7427626137303557\n",
      "Specificity: 0.6843413421706711\n",
      "Precision: 0.7021110242376857\n"
     ]
    }
   ],
   "source": [
    "run_model_rs(pipe_cvec_logreg, params_cvec_logreg, cv=3, model_name='cvec_logreg')"
   ]
  },
  {
   "cell_type": "markdown",
   "metadata": {},
   "source": [
    "#### ( 1.2 ) CountVectorizer + K Nearest Neighbor"
   ]
  },
  {
   "cell_type": "code",
   "execution_count": 16,
   "metadata": {},
   "outputs": [
    {
     "name": "stdout",
     "output_type": "stream",
     "text": [
      "Fitting 3 folds for each of 20 candidates, totalling 60 fits\n"
     ]
    },
    {
     "name": "stderr",
     "output_type": "stream",
     "text": [
      "[Parallel(n_jobs=-1)]: Using backend LokyBackend with 4 concurrent workers.\n",
      "/Users/gabrielperezprieto/anaconda3/lib/python3.7/site-packages/sklearn/externals/joblib/externals/loky/process_executor.py:706: UserWarning: A worker stopped while some jobs were given to the executor. This can be caused by a too short worker timeout or by a memory leak.\n",
      "  \"timeout or by a memory leak.\", UserWarning\n",
      "[Parallel(n_jobs=-1)]: Done  42 tasks      | elapsed:  1.9min\n",
      "[Parallel(n_jobs=-1)]: Done  60 out of  60 | elapsed:  2.3min finished\n",
      "/Users/gabrielperezprieto/anaconda3/lib/python3.7/site-packages/sklearn/feature_extraction/text.py:300: UserWarning: Your stop_words may be inconsistent with your preprocessing. Tokenizing the stop words generated tokens ['abov', 'afterward', 'alon', 'alreadi', 'alway', 'ani', 'anoth', 'anyon', 'anyth', 'anywher', 'becam', 'becaus', 'becom', 'befor', 'besid', 'cri', 'describ', 'dure', 'els', 'elsewher', 'empti', 'everi', 'everyon', 'everyth', 'everywher', 'fifti', 'formerli', 'forti', 'ha', 'henc', 'hereaft', 'herebi', 'hi', 'howev', 'hundr', 'inde', 'latterli', 'mani', 'meanwhil', 'moreov', 'mostli', 'nobodi', 'noon', 'noth', 'nowher', 'onc', 'onli', 'otherwis', 'ourselv', 'perhap', 'pleas', 'seriou', 'sever', 'sinc', 'sincer', 'sixti', 'someon', 'someth', 'sometim', 'somewher', 'themselv', 'thenc', 'thereaft', 'therebi', 'therefor', 'thi', 'thu', 'togeth', 'twelv', 'twenti', 'veri', 'wa', 'whatev', 'whenc', 'whenev', 'wherea', 'whereaft', 'wherebi', 'wherev', 'whi', 'yourselv'] not in stop_words.\n",
      "  'stop_words.' % sorted(inconsistent))\n"
     ]
    },
    {
     "name": "stdout",
     "output_type": "stream",
     "text": [
      "Best Score: 0.6018211920529801\n",
      "Best Parameters: {'knn__p': 2, 'knn__n_neighbors': 7, 'ct__cvec__tokenizer': <__main__.Stemmer object at 0x10970a090>, 'ct__cvec__stop_words': 'english', 'ct__cvec__ngram_range': (1, 1), 'ct__cvec__min_df': 1, 'ct__cvec__max_features': 2000, 'ct__cvec__max_df': 0.85}\n",
      "Training Accuracy Score: 0.7221302428256071\n",
      "Testing Accuracy Score: 0.5951986754966887\n",
      "Confusion Matrix:\n",
      "                   pred_vegetarian  pred_vegan\n",
      "actual_vegetarian              600         607\n",
      "actual_vegan                   371         838\n",
      " \n",
      "Accuracy: 0.5951986754966887\n",
      "Misclassification: 0.4048013245033113\n",
      "Sensitivity: 0.6931348221670802\n",
      "Specificity: 0.4971002485501243\n",
      "Precision: 0.5799307958477509\n"
     ]
    }
   ],
   "source": [
    "run_model_rs(pipe_cvec_knn, params_cvec_knn, cv=3, model_name='cvec_knn')"
   ]
  },
  {
   "cell_type": "markdown",
   "metadata": {},
   "source": [
    "#### ( 1.3 ) CountVectorizer + Naive Bayes"
   ]
  },
  {
   "cell_type": "code",
   "execution_count": 17,
   "metadata": {},
   "outputs": [
    {
     "name": "stdout",
     "output_type": "stream",
     "text": [
      "Fitting 3 folds for each of 20 candidates, totalling 60 fits\n"
     ]
    },
    {
     "name": "stderr",
     "output_type": "stream",
     "text": [
      "[Parallel(n_jobs=-1)]: Using backend LokyBackend with 4 concurrent workers.\n",
      "[Parallel(n_jobs=-1)]: Done  42 tasks      | elapsed:  1.5min\n",
      "[Parallel(n_jobs=-1)]: Done  60 out of  60 | elapsed:  2.0min finished\n",
      "/Users/gabrielperezprieto/anaconda3/lib/python3.7/site-packages/sklearn/feature_extraction/text.py:300: UserWarning: Your stop_words may be inconsistent with your preprocessing. Tokenizing the stop words generated tokens ['abov', 'afterward', 'alon', 'alreadi', 'alway', 'ani', 'anoth', 'anyon', 'anyth', 'anywher', 'becam', 'becaus', 'becom', 'befor', 'besid', 'cri', 'describ', 'dure', 'els', 'elsewher', 'empti', 'everi', 'everyon', 'everyth', 'everywher', 'fifti', 'formerli', 'forti', 'ha', 'henc', 'hereaft', 'herebi', 'hi', 'howev', 'hundr', 'inde', 'latterli', 'mani', 'meanwhil', 'moreov', 'mostli', 'nobodi', 'noon', 'noth', 'nowher', 'onc', 'onli', 'otherwis', 'ourselv', 'perhap', 'pleas', 'seriou', 'sever', 'sinc', 'sincer', 'sixti', 'someon', 'someth', 'sometim', 'somewher', 'themselv', 'thenc', 'thereaft', 'therebi', 'therefor', 'thi', 'thu', 'togeth', 'twelv', 'twenti', 'veri', 'wa', 'whatev', 'whenc', 'whenev', 'wherea', 'whereaft', 'wherebi', 'wherev', 'whi', 'yourselv'] not in stop_words.\n",
      "  'stop_words.' % sorted(inconsistent))\n"
     ]
    },
    {
     "name": "stdout",
     "output_type": "stream",
     "text": [
      "Best Score: 0.7137141280353201\n",
      "Best Parameters: {'mnb__alpha': 0.9, 'ct__cvec__tokenizer': <__main__.Stemmer object at 0x10970a190>, 'ct__cvec__stop_words': 'english', 'ct__cvec__ngram_range': (1, 1), 'ct__cvec__min_df': 2, 'ct__cvec__max_features': 2500, 'ct__cvec__max_df': 0.95}\n",
      "Training Accuracy Score: 0.7501379690949227\n",
      "Testing Accuracy Score: 0.7222682119205298\n",
      "Confusion Matrix:\n",
      "                   pred_vegetarian  pred_vegan\n",
      "actual_vegetarian              840         367\n",
      "actual_vegan                   304         905\n",
      " \n",
      "Accuracy: 0.7222682119205298\n",
      "Misclassification: 0.2777317880794702\n",
      "Sensitivity: 0.7485525227460711\n",
      "Specificity: 0.695940347970174\n",
      "Precision: 0.7114779874213837\n"
     ]
    }
   ],
   "source": [
    "run_model_rs(pipe_cvec_mnb, params_cvec_mnb, cv=3, model_name='cvec_mnb')"
   ]
  },
  {
   "cell_type": "markdown",
   "metadata": {},
   "source": [
    "#### ( 1.4 ) CountVectorizer + Decision Tree"
   ]
  },
  {
   "cell_type": "code",
   "execution_count": 18,
   "metadata": {},
   "outputs": [
    {
     "name": "stdout",
     "output_type": "stream",
     "text": [
      "Fitting 3 folds for each of 20 candidates, totalling 60 fits\n"
     ]
    },
    {
     "name": "stderr",
     "output_type": "stream",
     "text": [
      "[Parallel(n_jobs=-1)]: Using backend LokyBackend with 4 concurrent workers.\n",
      "[Parallel(n_jobs=-1)]: Done  42 tasks      | elapsed:  1.2min\n",
      "[Parallel(n_jobs=-1)]: Done  60 out of  60 | elapsed:  1.9min finished\n"
     ]
    },
    {
     "name": "stdout",
     "output_type": "stream",
     "text": [
      "Best Score: 0.6116169977924945\n",
      "Best Parameters: {'dt__min_samples_split': 2, 'dt__min_samples_leaf': 2, 'dt__max_depth': 4, 'ct__cvec__tokenizer': <__main__.Stemmer object at 0x10970a2d0>, 'ct__cvec__stop_words': None, 'ct__cvec__ngram_range': (1, 3), 'ct__cvec__min_df': 2, 'ct__cvec__max_features': 1500, 'ct__cvec__max_df': 0.95}\n",
      "Training Accuracy Score: 0.6128587196467992\n",
      "Testing Accuracy Score: 0.6043046357615894\n",
      "Confusion Matrix:\n",
      "                   pred_vegetarian  pred_vegan\n",
      "actual_vegetarian             1104         103\n",
      "actual_vegan                   853         356\n",
      " \n",
      "Accuracy: 0.6043046357615894\n",
      "Misclassification: 0.39569536423841056\n",
      "Sensitivity: 0.2944582299421009\n",
      "Specificity: 0.9146644573322287\n",
      "Precision: 0.775599128540305\n"
     ]
    }
   ],
   "source": [
    "run_model_rs(pipe_cvec_dt, params_cvec_dt, cv=3, model_name='cvec_dt')"
   ]
  },
  {
   "cell_type": "markdown",
   "metadata": {},
   "source": [
    "#### ( 1.5 ) CountVectorizer + Random Forest"
   ]
  },
  {
   "cell_type": "code",
   "execution_count": 19,
   "metadata": {},
   "outputs": [
    {
     "name": "stdout",
     "output_type": "stream",
     "text": [
      "Fitting 3 folds for each of 20 candidates, totalling 60 fits\n"
     ]
    },
    {
     "name": "stderr",
     "output_type": "stream",
     "text": [
      "[Parallel(n_jobs=-1)]: Using backend LokyBackend with 4 concurrent workers.\n",
      "[Parallel(n_jobs=-1)]: Done  42 tasks      | elapsed:  1.5min\n",
      "[Parallel(n_jobs=-1)]: Done  60 out of  60 | elapsed:  2.0min finished\n"
     ]
    },
    {
     "name": "stdout",
     "output_type": "stream",
     "text": [
      "Best Score: 0.6492825607064018\n",
      "Best Parameters: {'rf__n_estimators': 10, 'rf__min_samples_split': 2, 'rf__min_samples_leaf': 3, 'rf__max_features': None, 'rf__max_depth': 4, 'ct__cvec__tokenizer': <__main__.Stemmer object at 0x10970a3d0>, 'ct__cvec__stop_words': None, 'ct__cvec__ngram_range': (1, 2), 'ct__cvec__min_df': 4, 'ct__cvec__max_features': 1500, 'ct__cvec__max_df': 0.95}\n",
      "Training Accuracy Score: 0.6216887417218543\n",
      "Testing Accuracy Score: 0.6125827814569537\n",
      "Confusion Matrix:\n",
      "                   pred_vegetarian  pred_vegan\n",
      "actual_vegetarian              332         875\n",
      "actual_vegan                    61        1148\n",
      " \n",
      "Accuracy: 0.6125827814569537\n",
      "Misclassification: 0.38741721854304634\n",
      "Sensitivity: 0.9495450785773366\n",
      "Specificity: 0.2750621375310688\n",
      "Precision: 0.5674740484429066\n"
     ]
    }
   ],
   "source": [
    "run_model_rs(pipe_cvec_rf, params_cvec_rf, cv=3, model_name='cvec_rf')"
   ]
  },
  {
   "cell_type": "markdown",
   "metadata": {},
   "source": [
    "#### ( 1.6 ) CountVectorizer + Support Vector Classifier"
   ]
  },
  {
   "cell_type": "code",
   "execution_count": 25,
   "metadata": {},
   "outputs": [
    {
     "name": "stdout",
     "output_type": "stream",
     "text": [
      "Fitting 3 folds for each of 20 candidates, totalling 60 fits\n"
     ]
    },
    {
     "name": "stderr",
     "output_type": "stream",
     "text": [
      "[Parallel(n_jobs=-1)]: Using backend LokyBackend with 4 concurrent workers.\n",
      "/Users/gabrielperezprieto/anaconda3/lib/python3.7/site-packages/sklearn/externals/joblib/externals/loky/process_executor.py:706: UserWarning: A worker stopped while some jobs were given to the executor. This can be caused by a too short worker timeout or by a memory leak.\n",
      "  \"timeout or by a memory leak.\", UserWarning\n",
      "[Parallel(n_jobs=-1)]: Done  42 tasks      | elapsed:  4.0min\n",
      "[Parallel(n_jobs=-1)]: Done  60 out of  60 | elapsed:  5.5min finished\n",
      "/Users/gabrielperezprieto/anaconda3/lib/python3.7/site-packages/sklearn/feature_extraction/text.py:300: UserWarning: Your stop_words may be inconsistent with your preprocessing. Tokenizing the stop words generated tokens ['abov', 'afterward', 'alon', 'alreadi', 'alway', 'ani', 'anoth', 'anyon', 'anyth', 'anywher', 'becam', 'becaus', 'becom', 'befor', 'besid', 'cri', 'describ', 'dure', 'els', 'elsewher', 'empti', 'everi', 'everyon', 'everyth', 'everywher', 'fifti', 'formerli', 'forti', 'ha', 'henc', 'hereaft', 'herebi', 'hi', 'howev', 'hundr', 'inde', 'latterli', 'mani', 'meanwhil', 'moreov', 'mostli', 'nobodi', 'noon', 'noth', 'nowher', 'onc', 'onli', 'otherwis', 'ourselv', 'perhap', 'pleas', 'seriou', 'sever', 'sinc', 'sincer', 'sixti', 'someon', 'someth', 'sometim', 'somewher', 'themselv', 'thenc', 'thereaft', 'therebi', 'therefor', 'thi', 'thu', 'togeth', 'twelv', 'twenti', 'veri', 'wa', 'whatev', 'whenc', 'whenev', 'wherea', 'whereaft', 'wherebi', 'wherev', 'whi', 'yourselv'] not in stop_words.\n",
      "  'stop_words.' % sorted(inconsistent))\n"
     ]
    },
    {
     "name": "stdout",
     "output_type": "stream",
     "text": [
      "Best Score: 0.7000551876379691\n",
      "Best Parameters: {'svc__kernel': 'linear', 'svc__C': 0.06723357536499334, 'ct__cvec__tokenizer': <__main__.Stemmer object at 0x10970a250>, 'ct__cvec__stop_words': 'english', 'ct__cvec__ngram_range': (1, 2), 'ct__cvec__min_df': 3, 'ct__cvec__max_features': 2500, 'ct__cvec__max_df': 0.9}\n",
      "Training Accuracy Score: 0.8013245033112583\n",
      "Testing Accuracy Score: 0.7168874172185431\n",
      "Confusion Matrix:\n",
      "                   pred_vegetarian  pred_vegan\n",
      "actual_vegetarian              769         438\n",
      "actual_vegan                   246         963\n",
      " \n",
      "Accuracy: 0.7168874172185431\n",
      "Misclassification: 0.2831125827814569\n",
      "Sensitivity: 0.7965260545905707\n",
      "Specificity: 0.6371168185584093\n",
      "Precision: 0.6873661670235546\n"
     ]
    }
   ],
   "source": [
    "run_model_rs(pipe_cvec_svc, params_cvec_svc, cv=3, model_name='cvec_svc')"
   ]
  },
  {
   "cell_type": "markdown",
   "metadata": {},
   "source": [
    "---"
   ]
  },
  {
   "cell_type": "markdown",
   "metadata": {},
   "source": [
    "#### ( 2.1 ) TfidfVectorizer + LogisticRegression"
   ]
  },
  {
   "cell_type": "code",
   "execution_count": 26,
   "metadata": {},
   "outputs": [
    {
     "name": "stdout",
     "output_type": "stream",
     "text": [
      "Fitting 3 folds for each of 20 candidates, totalling 60 fits\n"
     ]
    },
    {
     "name": "stderr",
     "output_type": "stream",
     "text": [
      "[Parallel(n_jobs=-1)]: Using backend LokyBackend with 4 concurrent workers.\n",
      "[Parallel(n_jobs=-1)]: Done  42 tasks      | elapsed:  1.6min\n",
      "[Parallel(n_jobs=-1)]: Done  60 out of  60 | elapsed:  2.3min finished\n",
      "/Users/gabrielperezprieto/anaconda3/lib/python3.7/site-packages/sklearn/feature_extraction/text.py:300: UserWarning: Your stop_words may be inconsistent with your preprocessing. Tokenizing the stop words generated tokens ['abov', 'afterward', 'alon', 'alreadi', 'alway', 'ani', 'anoth', 'anyon', 'anyth', 'anywher', 'becam', 'becaus', 'becom', 'befor', 'besid', 'cri', 'describ', 'dure', 'els', 'elsewher', 'empti', 'everi', 'everyon', 'everyth', 'everywher', 'fifti', 'formerli', 'forti', 'ha', 'henc', 'hereaft', 'herebi', 'hi', 'howev', 'hundr', 'inde', 'latterli', 'mani', 'meanwhil', 'moreov', 'mostli', 'nobodi', 'noon', 'noth', 'nowher', 'onc', 'onli', 'otherwis', 'ourselv', 'perhap', 'pleas', 'seriou', 'sever', 'sinc', 'sincer', 'sixti', 'someon', 'someth', 'sometim', 'somewher', 'themselv', 'thenc', 'thereaft', 'therebi', 'therefor', 'thi', 'thu', 'togeth', 'twelv', 'twenti', 'veri', 'wa', 'whatev', 'whenc', 'whenev', 'wherea', 'whereaft', 'wherebi', 'wherev', 'whi', 'yourselv'] not in stop_words.\n",
      "  'stop_words.' % sorted(inconsistent))\n"
     ]
    },
    {
     "name": "stdout",
     "output_type": "stream",
     "text": [
      "Best Score: 0.7222682119205298\n",
      "Best Parameters: {'logreg__penalty': 'l2', 'logreg__C': 0.1, 'ct__tfidf__tokenizer': <__main__.Stemmer object at 0x1a2404cfd0>, 'ct__tfidf__stop_words': 'english', 'ct__tfidf__ngram_range': (1, 2), 'ct__tfidf__min_df': 2, 'ct__tfidf__max_features': 2000, 'ct__tfidf__max_df': 0.95}\n",
      "Training Accuracy Score: 0.76310706401766\n",
      "Testing Accuracy Score: 0.7400662251655629\n",
      "Confusion Matrix:\n",
      "                   pred_vegetarian  pred_vegan\n",
      "actual_vegetarian              844         363\n",
      "actual_vegan                   265         944\n",
      " \n",
      "Accuracy: 0.7400662251655629\n",
      "Misclassification: 0.25993377483443714\n",
      "Sensitivity: 0.7808105872622002\n",
      "Specificity: 0.6992543496271748\n",
      "Precision: 0.722264728385616\n"
     ]
    }
   ],
   "source": [
    "run_model_rs(pipe_tfidf_logreg, params_tfidf_logreg, cv=3, model_name='tfidf_logreg')"
   ]
  },
  {
   "cell_type": "markdown",
   "metadata": {},
   "source": [
    "#### ( 2.2 ) TfidfVectorizer + K Nearest Neighbor"
   ]
  },
  {
   "cell_type": "code",
   "execution_count": 27,
   "metadata": {},
   "outputs": [
    {
     "name": "stdout",
     "output_type": "stream",
     "text": [
      "Fitting 3 folds for each of 20 candidates, totalling 60 fits\n"
     ]
    },
    {
     "name": "stderr",
     "output_type": "stream",
     "text": [
      "[Parallel(n_jobs=-1)]: Using backend LokyBackend with 4 concurrent workers.\n",
      "[Parallel(n_jobs=-1)]: Done  42 tasks      | elapsed:  3.9min\n",
      "[Parallel(n_jobs=-1)]: Done  60 out of  60 | elapsed:  5.9min finished\n",
      "/Users/gabrielperezprieto/anaconda3/lib/python3.7/site-packages/sklearn/feature_extraction/text.py:300: UserWarning: Your stop_words may be inconsistent with your preprocessing. Tokenizing the stop words generated tokens ['abov', 'afterward', 'alon', 'alreadi', 'alway', 'ani', 'anoth', 'anyon', 'anyth', 'anywher', 'becam', 'becaus', 'becom', 'befor', 'besid', 'cri', 'describ', 'dure', 'els', 'elsewher', 'empti', 'everi', 'everyon', 'everyth', 'everywher', 'fifti', 'formerli', 'forti', 'ha', 'henc', 'hereaft', 'herebi', 'hi', 'howev', 'hundr', 'inde', 'latterli', 'mani', 'meanwhil', 'moreov', 'mostli', 'nobodi', 'noon', 'noth', 'nowher', 'onc', 'onli', 'otherwis', 'ourselv', 'perhap', 'pleas', 'seriou', 'sever', 'sinc', 'sincer', 'sixti', 'someon', 'someth', 'sometim', 'somewher', 'themselv', 'thenc', 'thereaft', 'therebi', 'therefor', 'thi', 'thu', 'togeth', 'twelv', 'twenti', 'veri', 'wa', 'whatev', 'whenc', 'whenev', 'wherea', 'whereaft', 'wherebi', 'wherev', 'whi', 'yourselv'] not in stop_words.\n",
      "  'stop_words.' % sorted(inconsistent))\n"
     ]
    },
    {
     "name": "stdout",
     "output_type": "stream",
     "text": [
      "Best Score: 0.5407008830022075\n",
      "Best Parameters: {'knn__p': 2, 'knn__n_neighbors': 3, 'ct__tfidf__tokenizer': <__main__.Stemmer object at 0x1097078d0>, 'ct__tfidf__stop_words': 'english', 'ct__tfidf__ngram_range': (1, 3), 'ct__tfidf__min_df': 4, 'ct__tfidf__max_features': 2000, 'ct__tfidf__max_df': 0.95}\n",
      "Training Accuracy Score: 0.9115618101545254\n",
      "Testing Accuracy Score: 0.5422185430463576\n",
      "Confusion Matrix:\n",
      "                   pred_vegetarian  pred_vegan\n",
      "actual_vegetarian             1001         206\n",
      "actual_vegan                   900         309\n",
      " \n",
      "Accuracy: 0.5422185430463576\n",
      "Misclassification: 0.45778145695364236\n",
      "Sensitivity: 0.2555831265508685\n",
      "Specificity: 0.8293289146644574\n",
      "Precision: 0.6\n"
     ]
    }
   ],
   "source": [
    "run_model_rs(pipe_tfidf_knn, params_tfidf_knn, cv=3, model_name='tfidf_knn')"
   ]
  },
  {
   "cell_type": "markdown",
   "metadata": {},
   "source": [
    "#### ( 2.3 ) TfidfVectorizer + Naive Bayes"
   ]
  },
  {
   "cell_type": "code",
   "execution_count": 28,
   "metadata": {},
   "outputs": [
    {
     "name": "stdout",
     "output_type": "stream",
     "text": [
      "Fitting 3 folds for each of 20 candidates, totalling 60 fits\n"
     ]
    },
    {
     "name": "stderr",
     "output_type": "stream",
     "text": [
      "[Parallel(n_jobs=-1)]: Using backend LokyBackend with 4 concurrent workers.\n",
      "/Users/gabrielperezprieto/anaconda3/lib/python3.7/site-packages/sklearn/externals/joblib/externals/loky/process_executor.py:706: UserWarning: A worker stopped while some jobs were given to the executor. This can be caused by a too short worker timeout or by a memory leak.\n",
      "  \"timeout or by a memory leak.\", UserWarning\n",
      "[Parallel(n_jobs=-1)]: Done  42 tasks      | elapsed:  1.2min\n",
      "[Parallel(n_jobs=-1)]: Done  60 out of  60 | elapsed:  1.7min finished\n"
     ]
    },
    {
     "name": "stdout",
     "output_type": "stream",
     "text": [
      "Best Score: 0.7092991169977925\n",
      "Best Parameters: {'mnb__alpha': 0.9, 'ct__tfidf__tokenizer': None, 'ct__tfidf__stop_words': 'english', 'ct__tfidf__ngram_range': (1, 1), 'ct__tfidf__min_df': 4, 'ct__tfidf__max_features': 2500, 'ct__tfidf__max_df': 0.9}\n",
      "Training Accuracy Score: 0.7775938189845475\n",
      "Testing Accuracy Score: 0.7177152317880795\n",
      "Confusion Matrix:\n",
      "                   pred_vegetarian  pred_vegan\n",
      "actual_vegetarian              860         347\n",
      "actual_vegan                   335         874\n",
      " \n",
      "Accuracy: 0.7177152317880795\n",
      "Misclassification: 0.2822847682119205\n",
      "Sensitivity: 0.7229114971050455\n",
      "Specificity: 0.7125103562551781\n",
      "Precision: 0.7158067158067158\n"
     ]
    }
   ],
   "source": [
    "run_model_rs(pipe_tfidf_mnb, params_tfidf_mnb, cv=3, model_name='tfidf_mnb')"
   ]
  },
  {
   "cell_type": "markdown",
   "metadata": {},
   "source": [
    "#### ( 2.4 ) TfidfVectorizer + Decision Tree"
   ]
  },
  {
   "cell_type": "code",
   "execution_count": 29,
   "metadata": {},
   "outputs": [
    {
     "name": "stdout",
     "output_type": "stream",
     "text": [
      "Fitting 3 folds for each of 20 candidates, totalling 60 fits\n"
     ]
    },
    {
     "name": "stderr",
     "output_type": "stream",
     "text": [
      "[Parallel(n_jobs=-1)]: Using backend LokyBackend with 4 concurrent workers.\n",
      "/Users/gabrielperezprieto/anaconda3/lib/python3.7/site-packages/sklearn/externals/joblib/externals/loky/process_executor.py:706: UserWarning: A worker stopped while some jobs were given to the executor. This can be caused by a too short worker timeout or by a memory leak.\n",
      "  \"timeout or by a memory leak.\", UserWarning\n",
      "[Parallel(n_jobs=-1)]: Done  42 tasks      | elapsed:   41.7s\n",
      "[Parallel(n_jobs=-1)]: Done  60 out of  60 | elapsed:  1.2min finished\n"
     ]
    },
    {
     "name": "stdout",
     "output_type": "stream",
     "text": [
      "Best Score: 0.6085816777041942\n",
      "Best Parameters: {'dt__min_samples_split': 2, 'dt__min_samples_leaf': 2, 'dt__max_depth': 4, 'ct__tfidf__tokenizer': <__main__.Stemmer object at 0x109707b10>, 'ct__tfidf__stop_words': None, 'ct__tfidf__ngram_range': (1, 2), 'ct__tfidf__min_df': 4, 'ct__tfidf__max_features': 2000, 'ct__tfidf__max_df': 0.95}\n",
      "Training Accuracy Score: 0.6149282560706402\n",
      "Testing Accuracy Score: 0.6047185430463576\n",
      "Confusion Matrix:\n",
      "                   pred_vegetarian  pred_vegan\n",
      "actual_vegetarian             1100         107\n",
      "actual_vegan                   848         361\n",
      " \n",
      "Accuracy: 0.6047185430463576\n",
      "Misclassification: 0.39528145695364236\n",
      "Sensitivity: 0.2985938792390405\n",
      "Specificity: 0.9113504556752279\n",
      "Precision: 0.7713675213675214\n"
     ]
    }
   ],
   "source": [
    "run_model_rs(pipe_tfidf_dt, params_tfidf_dt, cv=3, model_name='tfidf_dt')"
   ]
  },
  {
   "cell_type": "markdown",
   "metadata": {},
   "source": [
    "#### ( 2.5 ) TfidfVectorizer + Random Forest"
   ]
  },
  {
   "cell_type": "code",
   "execution_count": 30,
   "metadata": {},
   "outputs": [
    {
     "name": "stdout",
     "output_type": "stream",
     "text": [
      "Fitting 3 folds for each of 20 candidates, totalling 60 fits\n"
     ]
    },
    {
     "name": "stderr",
     "output_type": "stream",
     "text": [
      "[Parallel(n_jobs=-1)]: Using backend LokyBackend with 4 concurrent workers.\n",
      "[Parallel(n_jobs=-1)]: Done  42 tasks      | elapsed:  1.2min\n",
      "[Parallel(n_jobs=-1)]: Done  60 out of  60 | elapsed:  1.5min finished\n",
      "/Users/gabrielperezprieto/anaconda3/lib/python3.7/site-packages/sklearn/feature_extraction/text.py:300: UserWarning: Your stop_words may be inconsistent with your preprocessing. Tokenizing the stop words generated tokens ['abov', 'afterward', 'alon', 'alreadi', 'alway', 'ani', 'anoth', 'anyon', 'anyth', 'anywher', 'becam', 'becaus', 'becom', 'befor', 'besid', 'cri', 'describ', 'dure', 'els', 'elsewher', 'empti', 'everi', 'everyon', 'everyth', 'everywher', 'fifti', 'formerli', 'forti', 'ha', 'henc', 'hereaft', 'herebi', 'hi', 'howev', 'hundr', 'inde', 'latterli', 'mani', 'meanwhil', 'moreov', 'mostli', 'nobodi', 'noon', 'noth', 'nowher', 'onc', 'onli', 'otherwis', 'ourselv', 'perhap', 'pleas', 'seriou', 'sever', 'sinc', 'sincer', 'sixti', 'someon', 'someth', 'sometim', 'somewher', 'themselv', 'thenc', 'thereaft', 'therebi', 'therefor', 'thi', 'thu', 'togeth', 'twelv', 'twenti', 'veri', 'wa', 'whatev', 'whenc', 'whenev', 'wherea', 'whereaft', 'wherebi', 'wherev', 'whi', 'yourselv'] not in stop_words.\n",
      "  'stop_words.' % sorted(inconsistent))\n"
     ]
    },
    {
     "name": "stdout",
     "output_type": "stream",
     "text": [
      "Best Score: 0.6215507726269316\n",
      "Best Parameters: {'rf__n_estimators': 10, 'rf__min_samples_split': 3, 'rf__min_samples_leaf': 3, 'rf__max_features': None, 'rf__max_depth': 3, 'ct__tfidf__tokenizer': <__main__.Stemmer object at 0x109707c10>, 'ct__tfidf__stop_words': 'english', 'ct__tfidf__ngram_range': (1, 3), 'ct__tfidf__min_df': 3, 'ct__tfidf__max_features': 1500, 'ct__tfidf__max_df': 0.9}\n",
      "Training Accuracy Score: 0.6204470198675497\n",
      "Testing Accuracy Score: 0.6125827814569537\n",
      "Confusion Matrix:\n",
      "                   pred_vegetarian  pred_vegan\n",
      "actual_vegetarian              331         876\n",
      "actual_vegan                    60        1149\n",
      " \n",
      "Accuracy: 0.6125827814569537\n",
      "Misclassification: 0.38741721854304634\n",
      "Sensitivity: 0.9503722084367245\n",
      "Specificity: 0.2742336371168186\n",
      "Precision: 0.5674074074074074\n"
     ]
    }
   ],
   "source": [
    "run_model_rs(pipe_tfidf_rf, params_tfidf_rf, cv=3, model_name='tfidf_rf')"
   ]
  },
  {
   "cell_type": "markdown",
   "metadata": {},
   "source": [
    "#### ( 2.6 ) TfidfVectorizer + Support Vector Classifier"
   ]
  },
  {
   "cell_type": "code",
   "execution_count": 33,
   "metadata": {},
   "outputs": [
    {
     "name": "stdout",
     "output_type": "stream",
     "text": [
      "Fitting 3 folds for each of 20 candidates, totalling 60 fits\n"
     ]
    },
    {
     "name": "stderr",
     "output_type": "stream",
     "text": [
      "[Parallel(n_jobs=-1)]: Using backend LokyBackend with 4 concurrent workers.\n",
      "/Users/gabrielperezprieto/anaconda3/lib/python3.7/site-packages/sklearn/externals/joblib/externals/loky/process_executor.py:706: UserWarning: A worker stopped while some jobs were given to the executor. This can be caused by a too short worker timeout or by a memory leak.\n",
      "  \"timeout or by a memory leak.\", UserWarning\n",
      "[Parallel(n_jobs=-1)]: Done  42 tasks      | elapsed:  3.3min\n",
      "[Parallel(n_jobs=-1)]: Done  60 out of  60 | elapsed:  4.8min finished\n"
     ]
    },
    {
     "name": "stdout",
     "output_type": "stream",
     "text": [
      "Best Score: 0.7110927152317881\n",
      "Best Parameters: {'svc__kernel': 'linear', 'svc__C': 0.02592943797404667, 'ct__tfidf__tokenizer': None, 'ct__tfidf__stop_words': 'english', 'ct__tfidf__ngram_range': (1, 2), 'ct__tfidf__min_df': 3, 'ct__tfidf__max_features': 2500, 'ct__tfidf__max_df': 0.95}\n",
      "Training Accuracy Score: 0.7258554083885209\n",
      "Testing Accuracy Score: 0.7181291390728477\n",
      "Confusion Matrix:\n",
      "                   pred_vegetarian  pred_vegan\n",
      "actual_vegetarian              723         484\n",
      "actual_vegan                   197        1012\n",
      " \n",
      "Accuracy: 0.7181291390728477\n",
      "Misclassification: 0.2818708609271523\n",
      "Sensitivity: 0.837055417700579\n",
      "Specificity: 0.5990057995028998\n",
      "Precision: 0.6764705882352942\n"
     ]
    }
   ],
   "source": [
    "run_model_rs(pipe_tfidf_svc, params_tfidf_svc, cv=3, model_name='tfidf_svc')"
   ]
  },
  {
   "cell_type": "markdown",
   "metadata": {},
   "source": [
    "### Section 2 - Select Best Model\n",
    "---"
   ]
  },
  {
   "cell_type": "code",
   "execution_count": 34,
   "metadata": {},
   "outputs": [
    {
     "data": {
      "text/html": [
       "<div>\n",
       "<style scoped>\n",
       "    .dataframe tbody tr th:only-of-type {\n",
       "        vertical-align: middle;\n",
       "    }\n",
       "\n",
       "    .dataframe tbody tr th {\n",
       "        vertical-align: top;\n",
       "    }\n",
       "\n",
       "    .dataframe thead th {\n",
       "        text-align: right;\n",
       "    }\n",
       "</style>\n",
       "<table border=\"1\" class=\"dataframe\">\n",
       "  <thead>\n",
       "    <tr style=\"text-align: right;\">\n",
       "      <th></th>\n",
       "      <th>train</th>\n",
       "      <th>test</th>\n",
       "      <th>misclassification</th>\n",
       "      <th>sensitivity</th>\n",
       "      <th>specificity</th>\n",
       "      <th>precision</th>\n",
       "    </tr>\n",
       "  </thead>\n",
       "  <tbody>\n",
       "    <tr>\n",
       "      <td>cvec_logreg</td>\n",
       "      <td>0.739376</td>\n",
       "      <td>0.713576</td>\n",
       "      <td>0.286424</td>\n",
       "      <td>0.742763</td>\n",
       "      <td>0.684341</td>\n",
       "      <td>0.702111</td>\n",
       "    </tr>\n",
       "    <tr>\n",
       "      <td>cvec_knn</td>\n",
       "      <td>0.722130</td>\n",
       "      <td>0.595199</td>\n",
       "      <td>0.404801</td>\n",
       "      <td>0.693135</td>\n",
       "      <td>0.497100</td>\n",
       "      <td>0.579931</td>\n",
       "    </tr>\n",
       "    <tr>\n",
       "      <td>cvec_mnb</td>\n",
       "      <td>0.750138</td>\n",
       "      <td>0.722268</td>\n",
       "      <td>0.277732</td>\n",
       "      <td>0.748553</td>\n",
       "      <td>0.695940</td>\n",
       "      <td>0.711478</td>\n",
       "    </tr>\n",
       "    <tr>\n",
       "      <td>cvec_dt</td>\n",
       "      <td>0.612859</td>\n",
       "      <td>0.604305</td>\n",
       "      <td>0.395695</td>\n",
       "      <td>0.294458</td>\n",
       "      <td>0.914664</td>\n",
       "      <td>0.775599</td>\n",
       "    </tr>\n",
       "    <tr>\n",
       "      <td>cvec_rf</td>\n",
       "      <td>0.621689</td>\n",
       "      <td>0.612583</td>\n",
       "      <td>0.387417</td>\n",
       "      <td>0.949545</td>\n",
       "      <td>0.275062</td>\n",
       "      <td>0.567474</td>\n",
       "    </tr>\n",
       "    <tr>\n",
       "      <td>cvec_svc</td>\n",
       "      <td>0.801325</td>\n",
       "      <td>0.716887</td>\n",
       "      <td>0.283113</td>\n",
       "      <td>0.796526</td>\n",
       "      <td>0.637117</td>\n",
       "      <td>0.687366</td>\n",
       "    </tr>\n",
       "    <tr>\n",
       "      <td>tfidf_logreg</td>\n",
       "      <td>0.763107</td>\n",
       "      <td>0.740066</td>\n",
       "      <td>0.259934</td>\n",
       "      <td>0.780811</td>\n",
       "      <td>0.699254</td>\n",
       "      <td>0.722265</td>\n",
       "    </tr>\n",
       "    <tr>\n",
       "      <td>tfidf_knn</td>\n",
       "      <td>0.911562</td>\n",
       "      <td>0.542219</td>\n",
       "      <td>0.457781</td>\n",
       "      <td>0.255583</td>\n",
       "      <td>0.829329</td>\n",
       "      <td>0.600000</td>\n",
       "    </tr>\n",
       "    <tr>\n",
       "      <td>tfidf_mnb</td>\n",
       "      <td>0.777594</td>\n",
       "      <td>0.717715</td>\n",
       "      <td>0.282285</td>\n",
       "      <td>0.722911</td>\n",
       "      <td>0.712510</td>\n",
       "      <td>0.715807</td>\n",
       "    </tr>\n",
       "    <tr>\n",
       "      <td>tfidf_dt</td>\n",
       "      <td>0.614928</td>\n",
       "      <td>0.604719</td>\n",
       "      <td>0.395281</td>\n",
       "      <td>0.298594</td>\n",
       "      <td>0.911350</td>\n",
       "      <td>0.771368</td>\n",
       "    </tr>\n",
       "    <tr>\n",
       "      <td>tfidf_rf</td>\n",
       "      <td>0.620447</td>\n",
       "      <td>0.612583</td>\n",
       "      <td>0.387417</td>\n",
       "      <td>0.950372</td>\n",
       "      <td>0.274234</td>\n",
       "      <td>0.567407</td>\n",
       "    </tr>\n",
       "    <tr>\n",
       "      <td>tfidf_svc</td>\n",
       "      <td>0.725855</td>\n",
       "      <td>0.718129</td>\n",
       "      <td>0.281871</td>\n",
       "      <td>0.837055</td>\n",
       "      <td>0.599006</td>\n",
       "      <td>0.676471</td>\n",
       "    </tr>\n",
       "  </tbody>\n",
       "</table>\n",
       "</div>"
      ],
      "text/plain": [
       "                 train      test  misclassification  sensitivity  specificity  \\\n",
       "cvec_logreg   0.739376  0.713576           0.286424     0.742763     0.684341   \n",
       "cvec_knn      0.722130  0.595199           0.404801     0.693135     0.497100   \n",
       "cvec_mnb      0.750138  0.722268           0.277732     0.748553     0.695940   \n",
       "cvec_dt       0.612859  0.604305           0.395695     0.294458     0.914664   \n",
       "cvec_rf       0.621689  0.612583           0.387417     0.949545     0.275062   \n",
       "cvec_svc      0.801325  0.716887           0.283113     0.796526     0.637117   \n",
       "tfidf_logreg  0.763107  0.740066           0.259934     0.780811     0.699254   \n",
       "tfidf_knn     0.911562  0.542219           0.457781     0.255583     0.829329   \n",
       "tfidf_mnb     0.777594  0.717715           0.282285     0.722911     0.712510   \n",
       "tfidf_dt      0.614928  0.604719           0.395281     0.298594     0.911350   \n",
       "tfidf_rf      0.620447  0.612583           0.387417     0.950372     0.274234   \n",
       "tfidf_svc     0.725855  0.718129           0.281871     0.837055     0.599006   \n",
       "\n",
       "              precision  \n",
       "cvec_logreg    0.702111  \n",
       "cvec_knn       0.579931  \n",
       "cvec_mnb       0.711478  \n",
       "cvec_dt        0.775599  \n",
       "cvec_rf        0.567474  \n",
       "cvec_svc       0.687366  \n",
       "tfidf_logreg   0.722265  \n",
       "tfidf_knn      0.600000  \n",
       "tfidf_mnb      0.715807  \n",
       "tfidf_dt       0.771368  \n",
       "tfidf_rf       0.567407  \n",
       "tfidf_svc      0.676471  "
      ]
     },
     "execution_count": 34,
     "metadata": {},
     "output_type": "execute_result"
    }
   ],
   "source": [
    "# DataFrame with Results\n",
    "results_df = pd.DataFrame(results, index=['train', 'test', 'misclassification',\n",
    "                             'sensitivity', 'specificity', 'precision']).T\n",
    "\n",
    "results_df"
   ]
  },
  {
   "cell_type": "markdown",
   "metadata": {},
   "source": [
    "#### Plots for Scores"
   ]
  },
  {
   "cell_type": "code",
   "execution_count": 35,
   "metadata": {},
   "outputs": [],
   "source": [
    "# Set plot style\n",
    "plt.style.use('seaborn-darkgrid')"
   ]
  },
  {
   "cell_type": "code",
   "execution_count": 36,
   "metadata": {
    "scrolled": true
   },
   "outputs": [
    {
     "data": {
      "image/png": "[encoded data removed]",
      "text/plain": [
       "<Figure size 1152x360 with 1 Axes>"
      ]
     },
     "metadata": {},
     "output_type": "display_data"
    }
   ],
   "source": [
    "# Create plot fot 'Test Accuracy Scores'\n",
    "results_df['test'].plot(kind='bar', figsize=(16,5))\n",
    "\n",
    "plt.title('Test Accuracy Scores', size=16, pad=10)\n",
    "plt.axhline(0.5, color='r')\n",
    "plt.ylabel('Test Accuracy', size=14)\n",
    "plt.xticks(size=13, rotation=0)\n",
    "plt.yticks(size=13)\n",
    "plt.ylim(0, 1);"
   ]
  },
  {
   "cell_type": "code",
   "execution_count": 37,
   "metadata": {},
   "outputs": [
    {
     "data": {
      "image/png": "[encoded data removed]",
      "text/plain": [
       "<Figure size 1152x360 with 1 Axes>"
      ]
     },
     "metadata": {},
     "output_type": "display_data"
    }
   ],
   "source": [
    "# Create plot fot 'Specificity Scores'\n",
    "results_df['specificity'].plot(kind='bar', figsize=(16,5))\n",
    "\n",
    "plt.title('Specificity Scores', size=16, pad=10)\n",
    "\n",
    "plt.ylabel('Test Accuracy', size=14)\n",
    "# plt.annotate()\n",
    "plt.xticks(size=13, rotation=0)\n",
    "plt.yticks(size=13)\n",
    "plt.ylim(0,1);"
   ]
  },
  {
   "cell_type": "code",
   "execution_count": 38,
   "metadata": {},
   "outputs": [
    {
     "data": {
      "image/png": "[encoded data removed]",
      "text/plain": [
       "<Figure size 1152x360 with 1 Axes>"
      ]
     },
     "metadata": {},
     "output_type": "display_data"
    }
   ],
   "source": [
    "# Create plot fot 'Sensitivity Scores'\n",
    "results_df['sensitivity'].plot(kind='bar', figsize=(16,5))\n",
    "\n",
    "plt.title('Sensitivity Scores', size=16, pad=10)\n",
    "\n",
    "plt.ylabel('Sensitivity', size=14)\n",
    "plt.xticks(size=13, rotation=0)\n",
    "plt.yticks(size=13)\n",
    "plt.ylim(0,1);"
   ]
  },
  {
   "cell_type": "markdown",
   "metadata": {},
   "source": [
    "### Results\n",
    "---"
   ]
  },
  {
   "cell_type": "markdown",
   "metadata": {},
   "source": [
    "#### Parameters to Select Best Model:\n",
    "- Accuracy Score\n",
    "- Interpretability\n",
    "\n",
    "#### Chosen Model: tfidf_logreg ( TfidfVectorizer + Logistic Regression )"
   ]
  },
  {
   "cell_type": "code",
   "execution_count": 39,
   "metadata": {},
   "outputs": [],
   "source": [
    "# Set Best Pipeline\n",
    "pipeline = Pipeline([         \n",
    "    ('ct', ColumnTransformer([('tfidf', TfidfVectorizer(), 'body')])), # Instantiate transformer\n",
    "    ('logreg', LogisticRegression())                                   # Instantiante estimator\n",
    "])"
   ]
  },
  {
   "cell_type": "code",
   "execution_count": 40,
   "metadata": {},
   "outputs": [],
   "source": [
    "# Set Best Parameters\n",
    "parameters = {\n",
    "    'ct__tfidf__tokenizer': [Stemmer()],\n",
    "    'ct__tfidf__max_features' : [2000],\n",
    "    'ct__tfidf__stop_words': ['english'],\n",
    "    'ct__tfidf__ngram_range': [(1,2)],\n",
    "    'ct__tfidf__max_df': [0.95],\n",
    "    'ct__tfidf__min_df': [2],\n",
    "    'logreg__penalty': ['l2'],\n",
    "    'logreg__C': [0.1],\n",
    "}"
   ]
  },
  {
   "cell_type": "code",
   "execution_count": 41,
   "metadata": {},
   "outputs": [
    {
     "name": "stderr",
     "output_type": "stream",
     "text": [
      "/Users/gabrielperezprieto/anaconda3/lib/python3.7/site-packages/sklearn/model_selection/_search.py:271: UserWarning: The total space of parameters 1 is smaller than n_iter=20. Running 1 iterations. For exhaustive searches, use GridSearchCV.\n",
      "  % (grid_size, self.n_iter, grid_size), UserWarning)\n",
      "[Parallel(n_jobs=-1)]: Using backend LokyBackend with 4 concurrent workers.\n"
     ]
    },
    {
     "name": "stdout",
     "output_type": "stream",
     "text": [
      "Fitting 3 folds for each of 1 candidates, totalling 3 fits\n"
     ]
    },
    {
     "name": "stderr",
     "output_type": "stream",
     "text": [
      "[Parallel(n_jobs=-1)]: Done   3 out of   3 | elapsed:   14.9s finished\n",
      "/Users/gabrielperezprieto/anaconda3/lib/python3.7/site-packages/sklearn/feature_extraction/text.py:300: UserWarning: Your stop_words may be inconsistent with your preprocessing. Tokenizing the stop words generated tokens ['abov', 'afterward', 'alon', 'alreadi', 'alway', 'ani', 'anoth', 'anyon', 'anyth', 'anywher', 'becam', 'becaus', 'becom', 'befor', 'besid', 'cri', 'describ', 'dure', 'els', 'elsewher', 'empti', 'everi', 'everyon', 'everyth', 'everywher', 'fifti', 'formerli', 'forti', 'ha', 'henc', 'hereaft', 'herebi', 'hi', 'howev', 'hundr', 'inde', 'latterli', 'mani', 'meanwhil', 'moreov', 'mostli', 'nobodi', 'noon', 'noth', 'nowher', 'onc', 'onli', 'otherwis', 'ourselv', 'perhap', 'pleas', 'seriou', 'sever', 'sinc', 'sincer', 'sixti', 'someon', 'someth', 'sometim', 'somewher', 'themselv', 'thenc', 'thereaft', 'therebi', 'therefor', 'thi', 'thu', 'togeth', 'twelv', 'twenti', 'veri', 'wa', 'whatev', 'whenc', 'whenev', 'wherea', 'whereaft', 'wherebi', 'wherev', 'whi', 'yourselv'] not in stop_words.\n",
      "  'stop_words.' % sorted(inconsistent))\n"
     ]
    }
   ],
   "source": [
    "# Instantiate RandomizedSearchCV\n",
    "rs = RandomizedSearchCV(pipeline,\n",
    "                        parameters,\n",
    "                        cv=3,\n",
    "                        verbose=1,\n",
    "                        n_jobs=-1,\n",
    "                        n_iter=20)\n",
    "\n",
    "# Fit RandomSearch to training data\n",
    "rs.fit(X_train, y_train)\n",
    "\n",
    "# Predictions\n",
    "pred = rs.predict(X_test)"
   ]
  },
  {
   "cell_type": "code",
   "execution_count": 42,
   "metadata": {},
   "outputs": [
    {
     "name": "stdout",
     "output_type": "stream",
     "text": [
      "Confusion Matrix:\n"
     ]
    },
    {
     "data": {
      "text/html": [
       "<div>\n",
       "<style scoped>\n",
       "    .dataframe tbody tr th:only-of-type {\n",
       "        vertical-align: middle;\n",
       "    }\n",
       "\n",
       "    .dataframe tbody tr th {\n",
       "        vertical-align: top;\n",
       "    }\n",
       "\n",
       "    .dataframe thead th {\n",
       "        text-align: right;\n",
       "    }\n",
       "</style>\n",
       "<table border=\"1\" class=\"dataframe\">\n",
       "  <thead>\n",
       "    <tr style=\"text-align: right;\">\n",
       "      <th></th>\n",
       "      <th>pred_vegetarian</th>\n",
       "      <th>pred_vegan</th>\n",
       "    </tr>\n",
       "  </thead>\n",
       "  <tbody>\n",
       "    <tr>\n",
       "      <td>actual_vegetarian</td>\n",
       "      <td>844</td>\n",
       "      <td>363</td>\n",
       "    </tr>\n",
       "    <tr>\n",
       "      <td>actual_vegan</td>\n",
       "      <td>265</td>\n",
       "      <td>944</td>\n",
       "    </tr>\n",
       "  </tbody>\n",
       "</table>\n",
       "</div>"
      ],
      "text/plain": [
       "                   pred_vegetarian  pred_vegan\n",
       "actual_vegetarian              844         363\n",
       "actual_vegan                   265         944"
      ]
     },
     "execution_count": 42,
     "metadata": {},
     "output_type": "execute_result"
    }
   ],
   "source": [
    "# Confusion Matrix\n",
    "cm_df = pd.DataFrame(confusion_matrix(y_test, pred),\n",
    "                     columns=['pred_vegetarian', 'pred_vegan'],\n",
    "                     index=['actual_vegetarian', 'actual_vegan'])\n",
    "print('Confusion Matrix:')\n",
    "cm_df"
   ]
  },
  {
   "cell_type": "markdown",
   "metadata": {},
   "source": [
    "#### Most Frequent Words for Each Category ( PorterStemmer )"
   ]
  },
  {
   "cell_type": "code",
   "execution_count": 71,
   "metadata": {},
   "outputs": [
    {
     "name": "stderr",
     "output_type": "stream",
     "text": [
      "/Users/gabrielperezprieto/anaconda3/lib/python3.7/site-packages/sklearn/feature_extraction/text.py:300: UserWarning: Your stop_words may be inconsistent with your preprocessing. Tokenizing the stop words generated tokens ['abov', 'afterward', 'alon', 'alreadi', 'alway', 'ani', 'anoth', 'anyon', 'anyth', 'anywher', 'becam', 'becaus', 'becom', 'befor', 'besid', 'cri', 'describ', 'dure', 'els', 'elsewher', 'empti', 'everi', 'everyon', 'everyth', 'everywher', 'fifti', 'formerli', 'forti', 'ha', 'henc', 'hereaft', 'herebi', 'hi', 'howev', 'hundr', 'inde', 'latterli', 'mani', 'meanwhil', 'moreov', 'mostli', 'nobodi', 'noon', 'noth', 'nowher', 'onc', 'onli', 'otherwis', 'ourselv', 'perhap', 'pleas', 'seriou', 'sever', 'sinc', 'sincer', 'sixti', 'someon', 'someth', 'sometim', 'somewher', 'themselv', 'thenc', 'thereaft', 'therebi', 'therefor', 'thi', 'thu', 'togeth', 'twelv', 'twenti', 'veri', 'wa', 'whatev', 'whenc', 'whenev', 'wherea', 'whereaft', 'wherebi', 'wherev', 'whi', 'yourselv'] not in stop_words.\n",
      "  'stop_words.' % sorted(inconsistent))\n"
     ]
    }
   ],
   "source": [
    "# Use Porter Stemmer to Tokenize and Get Most Common Words\n",
    "tfidf = TfidfVectorizer(tokenizer=Stemmer(),\n",
    "                        max_features=2000,\n",
    "                        stop_words='english',\n",
    "                        ngram_range=(1,2),\n",
    "                        max_df=0.95,\n",
    "                        min_df=2)\n",
    "\n",
    "sparse_tfidf = tfidf.fit_transform(X_test['body'])\n",
    "\n",
    "sparse_tfidf_df = pd.DataFrame(sparse_tfidf.toarray(),\n",
    "                         columns=tfidf.get_feature_names())\n",
    "\n",
    "sparse_tfidf_df['preds'] = rs.predict(X_test)"
   ]
  },
  {
   "cell_type": "code",
   "execution_count": 72,
   "metadata": {},
   "outputs": [],
   "source": [
    "# Vegan Most Common words (Top 10)\n",
    "vegan_words = pd.DataFrame(sparse_tfidf_df.loc[sparse_tfidf_df['preds']==1, :].sum().sort_values(ascending=False),\n",
    "             columns=['word_count_stemm'])[1:11]"
   ]
  },
  {
   "cell_type": "code",
   "execution_count": 73,
   "metadata": {},
   "outputs": [],
   "source": [
    "# Vegetarian Most Common words (Top 10)\n",
    "vegetarian_words = pd.DataFrame(sparse_tfidf_df.loc[sparse_tfidf_df['preds']==0, :].sum().sort_values(ascending=False),\n",
    "             columns=['word_count_stemm'])[:10]"
   ]
  },
  {
   "cell_type": "code",
   "execution_count": 159,
   "metadata": {},
   "outputs": [
    {
     "data": {
      "image/png": "[encoded data removed]",
      "text/plain": [
       "<Figure size 1440x360 with 2 Axes>"
      ]
     },
     "metadata": {},
     "output_type": "display_data"
    }
   ],
   "source": [
    "# Plot Most Common Words (Stemmer)\n",
    "fig, axes = plt.subplots(1, 2, figsize=(20, 5))\n",
    "\n",
    "axes[0].bar(vegan_words.index, height=vegan_words['word_count_stemm'], color='green')\n",
    "axes[0].set_title('TF-IDF Score - Vegan', size=16, pad=10)\n",
    "axes[0].set_ylabel('Score', size=14)\n",
    "axes[0].tick_params(labelsize=13)\n",
    "axes[0].set_ylim(0,70)\n",
    "\n",
    "axes[1].bar(vegetarian_words.index, height=vegetarian_words['word_count_stemm'], color='green')\n",
    "axes[1].set_title('TF-IDF Score - Vegetarian', size=16, pad=10)\n",
    "axes[1].set_ylabel('Score', size=14)\n",
    "axes[1].tick_params(labelsize=13)\n",
    "axes[1].set_ylim(0,70);"
   ]
  },
  {
   "cell_type": "markdown",
   "metadata": {},
   "source": [
    "#### Most Frequent Words for Each Category ( Lemmatizer )"
   ]
  },
  {
   "cell_type": "code",
   "execution_count": 92,
   "metadata": {},
   "outputs": [],
   "source": [
    "# Use Porter Stemmer to Tokenize and Get Most Common Words\n",
    "tfidf = TfidfVectorizer(tokenizer=Lemmatizer(),\n",
    "                        max_features=2000,\n",
    "                        stop_words='english',\n",
    "                        ngram_range=(1,2),\n",
    "                        max_df=0.95,\n",
    "                        min_df=2)\n",
    "\n",
    "sparse_tfidf = tfidf.fit_transform(X_test['body'])\n",
    "\n",
    "sparse_tfidf_df = pd.DataFrame(sparse_tfidf.toarray(),\n",
    "                         columns=tfidf.get_feature_names())\n",
    "\n",
    "sparse_tfidf_df['preds'] = rs.predict(X_test)"
   ]
  },
  {
   "cell_type": "code",
   "execution_count": 93,
   "metadata": {},
   "outputs": [],
   "source": [
    "# Vegan Most Common words (Top 10)\n",
    "vegan_lemma = pd.DataFrame(sparse_tfidf_df.loc[sparse_tfidf_df['preds']==1, :].sum().sort_values(ascending=False),\n",
    "             columns=['word_count_lemma'])[1:11]"
   ]
  },
  {
   "cell_type": "code",
   "execution_count": 94,
   "metadata": {},
   "outputs": [],
   "source": [
    "# Vegetarian Most Common words (Top 10)\n",
    "vegetarian_lemma = pd.DataFrame(sparse_tfidf_df.loc[sparse_tfidf_df['preds']==0, :].sum().sort_values(ascending=False),\n",
    "             columns=['word_count_lemma'])[:10]"
   ]
  },
  {
   "cell_type": "code",
   "execution_count": 157,
   "metadata": {},
   "outputs": [
    {
     "data": {
      "image/png": "[encoded data removed]",
      "text/plain": [
       "<Figure size 1440x360 with 2 Axes>"
      ]
     },
     "metadata": {},
     "output_type": "display_data"
    }
   ],
   "source": [
    "# Plot Most Common Words (Lemmatizer)\n",
    "fig, axes = plt.subplots(1, 2, figsize=(20, 5))\n",
    "\n",
    "axes[0].bar(vegan_lemma.index, height=vegan_lemma['word_count_lemma'], color='green')\n",
    "axes[0].set_title('TF-IDF Score - Vegan', size=16, pad=10)\n",
    "axes[0].set_ylabel('Score', size=14)\n",
    "axes[0].tick_params(labelsize=13)\n",
    "axes[0].set_ylim(0,70)\n",
    "\n",
    "axes[1].bar(vegetarian_lemma.index, height=vegetarian_lemma['word_count_lemma'], color='green')\n",
    "axes[1].set_title('TF-IDF Score - Vegetarian', size=16, pad=10)\n",
    "axes[1].set_ylabel('Score', size=14)\n",
    "axes[1].tick_params(labelsize=13)\n",
    "axes[1].set_ylim(0,70);"
   ]
  }
 ],
 "metadata": {
  "kernelspec": {
   "display_name": "Python 3",
   "language": "python",
   "name": "python3"
  },
  "language_info": {
   "codemirror_mode": {
    "name": "ipython",
    "version": 3
   },
   "file_extension": ".py",
   "mimetype": "text/x-python",
   "name": "python",
   "nbconvert_exporter": "python",
   "pygments_lexer": "ipython3",
   "version": "3.7.2"
  }
 },
 "nbformat": 4,
 "nbformat_minor": 2
}
