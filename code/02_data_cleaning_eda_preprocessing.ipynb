{
 "cells": [
  {
   "cell_type": "markdown",
   "metadata": {},
   "source": [
    "# Project 3: `Web API's` & `Classification`\n",
    "---\n",
    "_Gabriel Perez Prieto_  "
   ]
  },
  {
   "cell_type": "markdown",
   "metadata": {},
   "source": [
    "### 02_Data Cleaning, EDA and Preprocessing\n",
    "---"
   ]
  },
  {
   "cell_type": "markdown",
   "metadata": {},
   "source": [
    "#### Import libraries"
   ]
  },
  {
   "cell_type": "code",
   "execution_count": 31,
   "metadata": {},
   "outputs": [],
   "source": [
    "import pandas as pd\n",
    "import numpy as np\n",
    "import matplotlib.pyplot as plt\n",
    "import seaborn as sns\n",
    "\n",
    "from nltk.tokenize import RegexpTokenizer\n",
    "from nltk import WordNetLemmatizer\n",
    "from nltk.stem import PorterStemmer\n",
    "\n",
    "# Magic command and plot style - matplotlib.pyplot\n",
    "%matplotlib inline\n",
    "plt.style.use('seaborn-darkgrid')\n",
    "\n",
    "    # Do not display future warnings\n",
    "import warnings\n",
    "warnings.simplefilter(action='ignore', category=FutureWarning)"
   ]
  },
  {
   "cell_type": "markdown",
   "metadata": {},
   "source": [
    "#### Load data"
   ]
  },
  {
   "cell_type": "code",
   "execution_count": 33,
   "metadata": {},
   "outputs": [],
   "source": [
    "df = pd.read_csv('./data/reddit.csv')"
   ]
  },
  {
   "cell_type": "code",
   "execution_count": 34,
   "metadata": {},
   "outputs": [
    {
     "data": {
      "text/html": [
       "<div>\n",
       "<style scoped>\n",
       "    .dataframe tbody tr th:only-of-type {\n",
       "        vertical-align: middle;\n",
       "    }\n",
       "\n",
       "    .dataframe tbody tr th {\n",
       "        vertical-align: top;\n",
       "    }\n",
       "\n",
       "    .dataframe thead th {\n",
       "        text-align: right;\n",
       "    }\n",
       "</style>\n",
       "<table border=\"1\" class=\"dataframe\">\n",
       "  <thead>\n",
       "    <tr style=\"text-align: right;\">\n",
       "      <th></th>\n",
       "      <th>author</th>\n",
       "      <th>body</th>\n",
       "      <th>score</th>\n",
       "      <th>subreddit</th>\n",
       "      <th>created_date</th>\n",
       "    </tr>\n",
       "  </thead>\n",
       "  <tbody>\n",
       "    <tr>\n",
       "      <td>0</td>\n",
       "      <td>ThisIsMyRental</td>\n",
       "      <td>My, my, my, you've outdone yourself friend! It...</td>\n",
       "      <td>1</td>\n",
       "      <td>vegan</td>\n",
       "      <td>2019-10-17 20:01:40</td>\n",
       "    </tr>\n",
       "    <tr>\n",
       "      <td>1</td>\n",
       "      <td>NorthernTurnip</td>\n",
       "      <td>Yeah that drives me crazy</td>\n",
       "      <td>1</td>\n",
       "      <td>vegan</td>\n",
       "      <td>2019-10-17 20:01:32</td>\n",
       "    </tr>\n",
       "    <tr>\n",
       "      <td>2</td>\n",
       "      <td>SkarKrow</td>\n",
       "      <td>London is amazing.\\n\\nThough if you visit the ...</td>\n",
       "      <td>1</td>\n",
       "      <td>vegan</td>\n",
       "      <td>2019-10-17 20:00:57</td>\n",
       "    </tr>\n",
       "    <tr>\n",
       "      <td>3</td>\n",
       "      <td>Breaking-finch</td>\n",
       "      <td>Because you took their land from them and disp...</td>\n",
       "      <td>0</td>\n",
       "      <td>vegan</td>\n",
       "      <td>2019-10-17 19:59:50</td>\n",
       "    </tr>\n",
       "    <tr>\n",
       "      <td>4</td>\n",
       "      <td>beariesad</td>\n",
       "      <td>ohh no shame in it at all! it's good for you, ...</td>\n",
       "      <td>2</td>\n",
       "      <td>vegan</td>\n",
       "      <td>2019-10-17 19:59:21</td>\n",
       "    </tr>\n",
       "  </tbody>\n",
       "</table>\n",
       "</div>"
      ],
      "text/plain": [
       "           author                                               body  score  \\\n",
       "0  ThisIsMyRental  My, my, my, you've outdone yourself friend! It...      1   \n",
       "1  NorthernTurnip                          Yeah that drives me crazy      1   \n",
       "2        SkarKrow  London is amazing.\\n\\nThough if you visit the ...      1   \n",
       "3  Breaking-finch  Because you took their land from them and disp...      0   \n",
       "4       beariesad  ohh no shame in it at all! it's good for you, ...      2   \n",
       "\n",
       "  subreddit         created_date  \n",
       "0     vegan  2019-10-17 20:01:40  \n",
       "1     vegan  2019-10-17 20:01:32  \n",
       "2     vegan  2019-10-17 20:00:57  \n",
       "3     vegan  2019-10-17 19:59:50  \n",
       "4     vegan  2019-10-17 19:59:21  "
      ]
     },
     "execution_count": 34,
     "metadata": {},
     "output_type": "execute_result"
    }
   ],
   "source": [
    "# Check first 5 rows\n",
    "df.head()"
   ]
  },
  {
   "cell_type": "markdown",
   "metadata": {},
   "source": [
    "#### Feature Engineering"
   ]
  },
  {
   "cell_type": "code",
   "execution_count": 35,
   "metadata": {},
   "outputs": [],
   "source": [
    "# Create 'target' for classification\n",
    "df['target'] = df['subreddit'].map({'vegan': 1, 'vegetarian': 0})"
   ]
  },
  {
   "cell_type": "code",
   "execution_count": 36,
   "metadata": {},
   "outputs": [],
   "source": [
    "# Create function to tokenize 'body'\n",
    "def tokenizer(x):\n",
    "    tokenizer = RegexpTokenizer(r'\\w+')\n",
    "    return tokenizer.tokenize(x)"
   ]
  },
  {
   "cell_type": "code",
   "execution_count": 37,
   "metadata": {},
   "outputs": [],
   "source": [
    "# Create new column with Tokens\n",
    "df['tokens'] = df['body'].map(tokenizer)"
   ]
  },
  {
   "cell_type": "code",
   "execution_count": 38,
   "metadata": {},
   "outputs": [
    {
     "name": "stderr",
     "output_type": "stream",
     "text": [
      "/Users/gabrielperezprieto/anaconda3/lib/python3.7/site-packages/numpy/core/fromnumeric.py:2920: RuntimeWarning: Mean of empty slice.\n",
      "  out=out, **kwargs)\n",
      "/Users/gabrielperezprieto/anaconda3/lib/python3.7/site-packages/numpy/core/_methods.py:85: RuntimeWarning: invalid value encountered in double_scalars\n",
      "  ret = ret.dtype.type(ret / rcount)\n"
     ]
    }
   ],
   "source": [
    "# Create 'average_word_len' feature\n",
    "df['avg_word_len'] = df['tokens'].map(lambda x: np.mean([len(word) for word in x]))"
   ]
  },
  {
   "cell_type": "code",
   "execution_count": 39,
   "metadata": {},
   "outputs": [],
   "source": [
    "# Create 'num_words' feature\n",
    "df['num_words'] = df['tokens'].map(len)"
   ]
  },
  {
   "cell_type": "markdown",
   "metadata": {},
   "source": [
    "#### Data Cleaning"
   ]
  },
  {
   "cell_type": "code",
   "execution_count": 40,
   "metadata": {},
   "outputs": [
    {
     "data": {
      "text/plain": [
       "(10000, 9)"
      ]
     },
     "execution_count": 40,
     "metadata": {},
     "output_type": "execute_result"
    }
   ],
   "source": [
    "# Check shape\n",
    "df.shape"
   ]
  },
  {
   "cell_type": "code",
   "execution_count": 41,
   "metadata": {},
   "outputs": [
    {
     "data": {
      "text/plain": [
       "author          0.0000\n",
       "body            0.0000\n",
       "score           0.0000\n",
       "subreddit       0.0000\n",
       "created_date    0.0000\n",
       "target          0.0000\n",
       "tokens          0.0000\n",
       "avg_word_len    0.0023\n",
       "num_words       0.0000\n",
       "dtype: float64"
      ]
     },
     "execution_count": 41,
     "metadata": {},
     "output_type": "execute_result"
    }
   ],
   "source": [
    "# Check fot null values\n",
    "df.isnull().mean()"
   ]
  },
  {
   "cell_type": "code",
   "execution_count": 42,
   "metadata": {},
   "outputs": [
    {
     "data": {
      "text/html": [
       "<div>\n",
       "<style scoped>\n",
       "    .dataframe tbody tr th:only-of-type {\n",
       "        vertical-align: middle;\n",
       "    }\n",
       "\n",
       "    .dataframe tbody tr th {\n",
       "        vertical-align: top;\n",
       "    }\n",
       "\n",
       "    .dataframe thead th {\n",
       "        text-align: right;\n",
       "    }\n",
       "</style>\n",
       "<table border=\"1\" class=\"dataframe\">\n",
       "  <thead>\n",
       "    <tr style=\"text-align: right;\">\n",
       "      <th></th>\n",
       "      <th>author</th>\n",
       "      <th>body</th>\n",
       "      <th>score</th>\n",
       "      <th>subreddit</th>\n",
       "      <th>created_date</th>\n",
       "      <th>target</th>\n",
       "      <th>tokens</th>\n",
       "      <th>avg_word_len</th>\n",
       "      <th>num_words</th>\n",
       "    </tr>\n",
       "  </thead>\n",
       "  <tbody>\n",
       "    <tr>\n",
       "      <td>134</td>\n",
       "      <td>N_edwards23</td>\n",
       "      <td>❤</td>\n",
       "      <td>3</td>\n",
       "      <td>vegan</td>\n",
       "      <td>2019-10-17 18:53:38</td>\n",
       "      <td>1</td>\n",
       "      <td>[]</td>\n",
       "      <td>NaN</td>\n",
       "      <td>0</td>\n",
       "    </tr>\n",
       "    <tr>\n",
       "      <td>259</td>\n",
       "      <td>greenteasweetpea</td>\n",
       "      <td>🏃💨</td>\n",
       "      <td>3</td>\n",
       "      <td>vegan</td>\n",
       "      <td>2019-10-17 18:01:42</td>\n",
       "      <td>1</td>\n",
       "      <td>[]</td>\n",
       "      <td>NaN</td>\n",
       "      <td>0</td>\n",
       "    </tr>\n",
       "    <tr>\n",
       "      <td>572</td>\n",
       "      <td>nwanda27</td>\n",
       "      <td>?????????????????</td>\n",
       "      <td>1</td>\n",
       "      <td>vegan</td>\n",
       "      <td>2019-10-17 15:28:53</td>\n",
       "      <td>1</td>\n",
       "      <td>[]</td>\n",
       "      <td>NaN</td>\n",
       "      <td>0</td>\n",
       "    </tr>\n",
       "    <tr>\n",
       "      <td>1051</td>\n",
       "      <td>vegansammy</td>\n",
       "      <td>😍😍😍😍</td>\n",
       "      <td>1</td>\n",
       "      <td>vegan</td>\n",
       "      <td>2019-10-17 10:06:19</td>\n",
       "      <td>1</td>\n",
       "      <td>[]</td>\n",
       "      <td>NaN</td>\n",
       "      <td>0</td>\n",
       "    </tr>\n",
       "    <tr>\n",
       "      <td>1364</td>\n",
       "      <td>airecl</td>\n",
       "      <td>🤣</td>\n",
       "      <td>1</td>\n",
       "      <td>vegan</td>\n",
       "      <td>2019-10-17 04:36:20</td>\n",
       "      <td>1</td>\n",
       "      <td>[]</td>\n",
       "      <td>NaN</td>\n",
       "      <td>0</td>\n",
       "    </tr>\n",
       "    <tr>\n",
       "      <td>1450</td>\n",
       "      <td>itsizzydarling</td>\n",
       "      <td>😂</td>\n",
       "      <td>1</td>\n",
       "      <td>vegan</td>\n",
       "      <td>2019-10-17 03:27:44</td>\n",
       "      <td>1</td>\n",
       "      <td>[]</td>\n",
       "      <td>NaN</td>\n",
       "      <td>0</td>\n",
       "    </tr>\n",
       "    <tr>\n",
       "      <td>1455</td>\n",
       "      <td>itsizzydarling</td>\n",
       "      <td>☝🏽🙌🏽</td>\n",
       "      <td>1</td>\n",
       "      <td>vegan</td>\n",
       "      <td>2019-10-17 03:26:09</td>\n",
       "      <td>1</td>\n",
       "      <td>[]</td>\n",
       "      <td>NaN</td>\n",
       "      <td>0</td>\n",
       "    </tr>\n",
       "    <tr>\n",
       "      <td>1972</td>\n",
       "      <td>ttrockwood</td>\n",
       "      <td>💪🌱💪</td>\n",
       "      <td>1</td>\n",
       "      <td>vegan</td>\n",
       "      <td>2019-10-16 23:25:40</td>\n",
       "      <td>1</td>\n",
       "      <td>[]</td>\n",
       "      <td>NaN</td>\n",
       "      <td>0</td>\n",
       "    </tr>\n",
       "    <tr>\n",
       "      <td>2312</td>\n",
       "      <td>RX_queen</td>\n",
       "      <td>🤘</td>\n",
       "      <td>1</td>\n",
       "      <td>vegan</td>\n",
       "      <td>2019-10-16 20:47:27</td>\n",
       "      <td>1</td>\n",
       "      <td>[]</td>\n",
       "      <td>NaN</td>\n",
       "      <td>0</td>\n",
       "    </tr>\n",
       "    <tr>\n",
       "      <td>3015</td>\n",
       "      <td>shinepurple</td>\n",
       "      <td>🤮</td>\n",
       "      <td>1</td>\n",
       "      <td>vegan</td>\n",
       "      <td>2019-10-16 16:25:35</td>\n",
       "      <td>1</td>\n",
       "      <td>[]</td>\n",
       "      <td>NaN</td>\n",
       "      <td>0</td>\n",
       "    </tr>\n",
       "    <tr>\n",
       "      <td>3733</td>\n",
       "      <td>VEGASHI269</td>\n",
       "      <td>🗿🗿🗿🗿🗿</td>\n",
       "      <td>1</td>\n",
       "      <td>vegan</td>\n",
       "      <td>2019-10-16 04:47:30</td>\n",
       "      <td>1</td>\n",
       "      <td>[]</td>\n",
       "      <td>NaN</td>\n",
       "      <td>0</td>\n",
       "    </tr>\n",
       "    <tr>\n",
       "      <td>3751</td>\n",
       "      <td>JayTulloch</td>\n",
       "      <td>🤮🤮🤮🤮</td>\n",
       "      <td>1</td>\n",
       "      <td>vegan</td>\n",
       "      <td>2019-10-16 04:37:20</td>\n",
       "      <td>1</td>\n",
       "      <td>[]</td>\n",
       "      <td>NaN</td>\n",
       "      <td>0</td>\n",
       "    </tr>\n",
       "    <tr>\n",
       "      <td>3860</td>\n",
       "      <td>anotheranothervegan</td>\n",
       "      <td>:)</td>\n",
       "      <td>1</td>\n",
       "      <td>vegan</td>\n",
       "      <td>2019-10-16 02:49:51</td>\n",
       "      <td>1</td>\n",
       "      <td>[]</td>\n",
       "      <td>NaN</td>\n",
       "      <td>0</td>\n",
       "    </tr>\n",
       "    <tr>\n",
       "      <td>3871</td>\n",
       "      <td>mOOse32</td>\n",
       "      <td>:(</td>\n",
       "      <td>1</td>\n",
       "      <td>vegan</td>\n",
       "      <td>2019-10-16 02:41:56</td>\n",
       "      <td>1</td>\n",
       "      <td>[]</td>\n",
       "      <td>NaN</td>\n",
       "      <td>0</td>\n",
       "    </tr>\n",
       "    <tr>\n",
       "      <td>3926</td>\n",
       "      <td>TupacsFather</td>\n",
       "      <td>:|</td>\n",
       "      <td>1</td>\n",
       "      <td>vegan</td>\n",
       "      <td>2019-10-16 02:03:51</td>\n",
       "      <td>1</td>\n",
       "      <td>[]</td>\n",
       "      <td>NaN</td>\n",
       "      <td>0</td>\n",
       "    </tr>\n",
       "    <tr>\n",
       "      <td>4279</td>\n",
       "      <td>rdsf138</td>\n",
       "      <td>👏👏👏👏👏</td>\n",
       "      <td>1</td>\n",
       "      <td>vegan</td>\n",
       "      <td>2019-10-15 23:15:25</td>\n",
       "      <td>1</td>\n",
       "      <td>[]</td>\n",
       "      <td>NaN</td>\n",
       "      <td>0</td>\n",
       "    </tr>\n",
       "    <tr>\n",
       "      <td>4602</td>\n",
       "      <td>HarassedGiraffe</td>\n",
       "      <td>📠</td>\n",
       "      <td>1</td>\n",
       "      <td>vegan</td>\n",
       "      <td>2019-10-15 20:56:46</td>\n",
       "      <td>1</td>\n",
       "      <td>[]</td>\n",
       "      <td>NaN</td>\n",
       "      <td>0</td>\n",
       "    </tr>\n",
       "    <tr>\n",
       "      <td>4979</td>\n",
       "      <td>Asa808</td>\n",
       "      <td>👀</td>\n",
       "      <td>1</td>\n",
       "      <td>vegan</td>\n",
       "      <td>2019-10-15 17:17:30</td>\n",
       "      <td>1</td>\n",
       "      <td>[]</td>\n",
       "      <td>NaN</td>\n",
       "      <td>0</td>\n",
       "    </tr>\n",
       "    <tr>\n",
       "      <td>5380</td>\n",
       "      <td>gabriela19750</td>\n",
       "      <td>🤠</td>\n",
       "      <td>1</td>\n",
       "      <td>vegetarian</td>\n",
       "      <td>2019-10-16 07:16:56</td>\n",
       "      <td>0</td>\n",
       "      <td>[]</td>\n",
       "      <td>NaN</td>\n",
       "      <td>0</td>\n",
       "    </tr>\n",
       "    <tr>\n",
       "      <td>5477</td>\n",
       "      <td>gbo1148</td>\n",
       "      <td>😊</td>\n",
       "      <td>1</td>\n",
       "      <td>vegetarian</td>\n",
       "      <td>2019-10-15 23:00:56</td>\n",
       "      <td>0</td>\n",
       "      <td>[]</td>\n",
       "      <td>NaN</td>\n",
       "      <td>0</td>\n",
       "    </tr>\n",
       "    <tr>\n",
       "      <td>5636</td>\n",
       "      <td>milkybubbl3s</td>\n",
       "      <td>😍</td>\n",
       "      <td>1</td>\n",
       "      <td>vegetarian</td>\n",
       "      <td>2019-10-15 16:16:35</td>\n",
       "      <td>0</td>\n",
       "      <td>[]</td>\n",
       "      <td>NaN</td>\n",
       "      <td>0</td>\n",
       "    </tr>\n",
       "    <tr>\n",
       "      <td>8807</td>\n",
       "      <td>ttrockwood</td>\n",
       "      <td>🤢</td>\n",
       "      <td>2</td>\n",
       "      <td>vegetarian</td>\n",
       "      <td>2019-10-06 03:47:52</td>\n",
       "      <td>0</td>\n",
       "      <td>[]</td>\n",
       "      <td>NaN</td>\n",
       "      <td>0</td>\n",
       "    </tr>\n",
       "    <tr>\n",
       "      <td>8899</td>\n",
       "      <td>thegreatzach127</td>\n",
       "      <td>😋</td>\n",
       "      <td>0</td>\n",
       "      <td>vegetarian</td>\n",
       "      <td>2019-10-05 21:18:50</td>\n",
       "      <td>0</td>\n",
       "      <td>[]</td>\n",
       "      <td>NaN</td>\n",
       "      <td>0</td>\n",
       "    </tr>\n",
       "  </tbody>\n",
       "</table>\n",
       "</div>"
      ],
      "text/plain": [
       "                   author               body  score   subreddit  \\\n",
       "134           N_edwards23                  ❤      3       vegan   \n",
       "259      greenteasweetpea                 🏃💨      3       vegan   \n",
       "572              nwanda27  ?????????????????      1       vegan   \n",
       "1051           vegansammy               😍😍😍😍      1       vegan   \n",
       "1364               airecl                  🤣      1       vegan   \n",
       "1450       itsizzydarling                  😂      1       vegan   \n",
       "1455       itsizzydarling               ☝🏽🙌🏽      1       vegan   \n",
       "1972           ttrockwood                💪🌱💪      1       vegan   \n",
       "2312             RX_queen                  🤘      1       vegan   \n",
       "3015          shinepurple                  🤮      1       vegan   \n",
       "3733           VEGASHI269              🗿🗿🗿🗿🗿      1       vegan   \n",
       "3751           JayTulloch               🤮🤮🤮🤮      1       vegan   \n",
       "3860  anotheranothervegan                 :)      1       vegan   \n",
       "3871              mOOse32                 :(      1       vegan   \n",
       "3926         TupacsFather                 :|      1       vegan   \n",
       "4279              rdsf138              👏👏👏👏👏      1       vegan   \n",
       "4602      HarassedGiraffe                  📠      1       vegan   \n",
       "4979               Asa808                  👀      1       vegan   \n",
       "5380        gabriela19750                  🤠      1  vegetarian   \n",
       "5477              gbo1148                  😊      1  vegetarian   \n",
       "5636         milkybubbl3s                  😍      1  vegetarian   \n",
       "8807           ttrockwood                  🤢      2  vegetarian   \n",
       "8899      thegreatzach127                  😋      0  vegetarian   \n",
       "\n",
       "             created_date  target tokens  avg_word_len  num_words  \n",
       "134   2019-10-17 18:53:38       1     []           NaN          0  \n",
       "259   2019-10-17 18:01:42       1     []           NaN          0  \n",
       "572   2019-10-17 15:28:53       1     []           NaN          0  \n",
       "1051  2019-10-17 10:06:19       1     []           NaN          0  \n",
       "1364  2019-10-17 04:36:20       1     []           NaN          0  \n",
       "1450  2019-10-17 03:27:44       1     []           NaN          0  \n",
       "1455  2019-10-17 03:26:09       1     []           NaN          0  \n",
       "1972  2019-10-16 23:25:40       1     []           NaN          0  \n",
       "2312  2019-10-16 20:47:27       1     []           NaN          0  \n",
       "3015  2019-10-16 16:25:35       1     []           NaN          0  \n",
       "3733  2019-10-16 04:47:30       1     []           NaN          0  \n",
       "3751  2019-10-16 04:37:20       1     []           NaN          0  \n",
       "3860  2019-10-16 02:49:51       1     []           NaN          0  \n",
       "3871  2019-10-16 02:41:56       1     []           NaN          0  \n",
       "3926  2019-10-16 02:03:51       1     []           NaN          0  \n",
       "4279  2019-10-15 23:15:25       1     []           NaN          0  \n",
       "4602  2019-10-15 20:56:46       1     []           NaN          0  \n",
       "4979  2019-10-15 17:17:30       1     []           NaN          0  \n",
       "5380  2019-10-16 07:16:56       0     []           NaN          0  \n",
       "5477  2019-10-15 23:00:56       0     []           NaN          0  \n",
       "5636  2019-10-15 16:16:35       0     []           NaN          0  \n",
       "8807  2019-10-06 03:47:52       0     []           NaN          0  \n",
       "8899  2019-10-05 21:18:50       0     []           NaN          0  "
      ]
     },
     "execution_count": 42,
     "metadata": {},
     "output_type": "execute_result"
    }
   ],
   "source": [
    "# Check Null Values - Emojis!\n",
    "df[df.isna().any(axis=1)]"
   ]
  },
  {
   "cell_type": "code",
   "execution_count": 43,
   "metadata": {},
   "outputs": [],
   "source": [
    "# Drop Rows with no body or with emoticons\n",
    "df.dropna(axis=0, inplace=True)"
   ]
  },
  {
   "cell_type": "code",
   "execution_count": 44,
   "metadata": {},
   "outputs": [
    {
     "data": {
      "text/plain": [
       "(9977, 9)"
      ]
     },
     "execution_count": 44,
     "metadata": {},
     "output_type": "execute_result"
    }
   ],
   "source": [
    "# Check shape to make sure Nan were removed\n",
    "df.shape"
   ]
  },
  {
   "cell_type": "code",
   "execution_count": 45,
   "metadata": {},
   "outputs": [
    {
     "data": {
      "text/plain": [
       "author           object\n",
       "body             object\n",
       "score             int64\n",
       "subreddit        object\n",
       "created_date     object\n",
       "target            int64\n",
       "tokens           object\n",
       "avg_word_len    float64\n",
       "num_words         int64\n",
       "dtype: object"
      ]
     },
     "execution_count": 45,
     "metadata": {},
     "output_type": "execute_result"
    }
   ],
   "source": [
    "# Check variable types\n",
    "df.dtypes"
   ]
  },
  {
   "cell_type": "code",
   "execution_count": 46,
   "metadata": {},
   "outputs": [
    {
     "data": {
      "text/plain": [
       "False    9664\n",
       "True      313\n",
       "dtype: int64"
      ]
     },
     "execution_count": 46,
     "metadata": {},
     "output_type": "execute_result"
    }
   ],
   "source": [
    "# Check for duplicate values\n",
    "df[['body', 'subreddit']].duplicated(keep='first').value_counts()"
   ]
  },
  {
   "cell_type": "code",
   "execution_count": 47,
   "metadata": {},
   "outputs": [],
   "source": [
    "# Drop duplicate values\n",
    "df = df[df[['body', 'subreddit']].duplicated(keep='first') == False]"
   ]
  },
  {
   "cell_type": "code",
   "execution_count": 48,
   "metadata": {},
   "outputs": [],
   "source": [
    "# Reset index\n",
    "df.reset_index(inplace=True, drop=True)"
   ]
  },
  {
   "cell_type": "code",
   "execution_count": 49,
   "metadata": {},
   "outputs": [
    {
     "data": {
      "text/plain": [
       "(9664, 9)"
      ]
     },
     "execution_count": 49,
     "metadata": {},
     "output_type": "execute_result"
    }
   ],
   "source": [
    "# Check if duplicates were removed!\n",
    "df.shape"
   ]
  },
  {
   "cell_type": "code",
   "execution_count": 58,
   "metadata": {},
   "outputs": [
    {
     "data": {
      "text/plain": [
       "1    4836\n",
       "0    4828\n",
       "Name: target, dtype: int64"
      ]
     },
     "execution_count": 58,
     "metadata": {},
     "output_type": "execute_result"
    }
   ],
   "source": [
    "df['target'].value_counts()"
   ]
  },
  {
   "cell_type": "markdown",
   "metadata": {},
   "source": [
    "#### EDA ( Exploratory Data Analysis )"
   ]
  },
  {
   "cell_type": "code",
   "execution_count": 50,
   "metadata": {},
   "outputs": [
    {
     "data": {
      "text/html": [
       "<div>\n",
       "<style scoped>\n",
       "    .dataframe tbody tr th:only-of-type {\n",
       "        vertical-align: middle;\n",
       "    }\n",
       "\n",
       "    .dataframe tbody tr th {\n",
       "        vertical-align: top;\n",
       "    }\n",
       "\n",
       "    .dataframe thead th {\n",
       "        text-align: right;\n",
       "    }\n",
       "</style>\n",
       "<table border=\"1\" class=\"dataframe\">\n",
       "  <thead>\n",
       "    <tr style=\"text-align: right;\">\n",
       "      <th></th>\n",
       "      <th>score</th>\n",
       "      <th>target</th>\n",
       "      <th>avg_word_len</th>\n",
       "      <th>num_words</th>\n",
       "    </tr>\n",
       "  </thead>\n",
       "  <tbody>\n",
       "    <tr>\n",
       "      <td>score</td>\n",
       "      <td>1.000000</td>\n",
       "      <td>-0.045786</td>\n",
       "      <td>0.011376</td>\n",
       "      <td>0.000430</td>\n",
       "    </tr>\n",
       "    <tr>\n",
       "      <td>target</td>\n",
       "      <td>-0.045786</td>\n",
       "      <td>1.000000</td>\n",
       "      <td>0.029992</td>\n",
       "      <td>0.000321</td>\n",
       "    </tr>\n",
       "    <tr>\n",
       "      <td>avg_word_len</td>\n",
       "      <td>0.011376</td>\n",
       "      <td>0.029992</td>\n",
       "      <td>1.000000</td>\n",
       "      <td>-0.007152</td>\n",
       "    </tr>\n",
       "    <tr>\n",
       "      <td>num_words</td>\n",
       "      <td>0.000430</td>\n",
       "      <td>0.000321</td>\n",
       "      <td>-0.007152</td>\n",
       "      <td>1.000000</td>\n",
       "    </tr>\n",
       "  </tbody>\n",
       "</table>\n",
       "</div>"
      ],
      "text/plain": [
       "                 score    target  avg_word_len  num_words\n",
       "score         1.000000 -0.045786      0.011376   0.000430\n",
       "target       -0.045786  1.000000      0.029992   0.000321\n",
       "avg_word_len  0.011376  0.029992      1.000000  -0.007152\n",
       "num_words     0.000430  0.000321     -0.007152   1.000000"
      ]
     },
     "execution_count": 50,
     "metadata": {},
     "output_type": "execute_result"
    }
   ],
   "source": [
    "# Check correlations of new variables\n",
    "df.corr()"
   ]
  },
  {
   "cell_type": "code",
   "execution_count": 51,
   "metadata": {},
   "outputs": [
    {
     "data": {
      "text/plain": [
       "subreddit\n",
       "vegan         40.169975\n",
       "vegetarian    40.133181\n",
       "Name: num_words, dtype: float64"
      ]
     },
     "execution_count": 51,
     "metadata": {},
     "output_type": "execute_result"
    }
   ],
   "source": [
    "# Check mean num_words\n",
    "df.groupby('subreddit')['num_words'].mean()"
   ]
  },
  {
   "cell_type": "code",
   "execution_count": 52,
   "metadata": {},
   "outputs": [
    {
     "data": {
      "text/plain": [
       "subreddit\n",
       "vegan         4.267839\n",
       "vegetarian    4.217744\n",
       "Name: avg_word_len, dtype: float64"
      ]
     },
     "execution_count": 52,
     "metadata": {},
     "output_type": "execute_result"
    }
   ],
   "source": [
    "# Check mean num_words\n",
    "df.groupby('subreddit')['avg_word_len'].mean()"
   ]
  },
  {
   "cell_type": "code",
   "execution_count": 53,
   "metadata": {},
   "outputs": [
    {
     "data": {
      "text/plain": [
       "subreddit\n",
       "vegan         1.080645\n",
       "vegetarian    1.251657\n",
       "Name: score, dtype: float64"
      ]
     },
     "execution_count": 53,
     "metadata": {},
     "output_type": "execute_result"
    }
   ],
   "source": [
    "# Check mean score\n",
    "df.groupby('subreddit')['score'].mean()"
   ]
  },
  {
   "cell_type": "markdown",
   "metadata": {},
   "source": [
    "#### Create Distribution Plot for Numerical Variables"
   ]
  },
  {
   "cell_type": "code",
   "execution_count": 54,
   "metadata": {},
   "outputs": [
    {
     "data": {
      "image/png": "[encoded data removed]",
      "text/plain": [
       "<Figure size 1152x360 with 1 Axes>"
      ]
     },
     "metadata": {},
     "output_type": "display_data"
    }
   ],
   "source": [
    "# Create distribution plot for num_words\n",
    "plt.figure(figsize=(16,5))\n",
    "plt.title('Distribution of Number of Words per Comment', size=16, pad=10)\n",
    "\n",
    "sns.distplot(df['num_words'])\n",
    "plt.axvline(df['num_words'].mean(), color='r', )\n",
    "\n",
    "plt.xlabel('Number of Words', size=14)\n",
    "plt.ylabel('Frequency', size=14)\n",
    "\n",
    "plt.xticks(size=12)\n",
    "plt.yticks(size=12);"
   ]
  },
  {
   "cell_type": "code",
   "execution_count": 55,
   "metadata": {
    "scrolled": true
   },
   "outputs": [
    {
     "data": {
      "image/png": "[encoded data removed]",
      "text/plain": [
       "<Figure size 1152x360 with 1 Axes>"
      ]
     },
     "metadata": {},
     "output_type": "display_data"
    }
   ],
   "source": [
    "# Create distribution plot for Averege Word Lenght\n",
    "plt.figure(figsize=(16,5))\n",
    "plt.title('Distribution of Average Word Lenght per Comment', size=16, pad=10)\n",
    "\n",
    "sns.distplot(df['avg_word_len'])\n",
    "plt.axvline(df['avg_word_len'].mean(), color='r', )\n",
    "\n",
    "plt.xlabel('Average Word Lenght', size=14)\n",
    "plt.ylabel('Frequency', size=14)\n",
    "\n",
    "plt.xticks(size=12)\n",
    "plt.yticks(size=12);"
   ]
  },
  {
   "cell_type": "code",
   "execution_count": 56,
   "metadata": {},
   "outputs": [
    {
     "data": {
      "image/png": "[encoded data removed]",
      "text/plain": [
       "<Figure size 1152x360 with 1 Axes>"
      ]
     },
     "metadata": {},
     "output_type": "display_data"
    }
   ],
   "source": [
    "# Create distribution plot for score\n",
    "plt.figure(figsize=(16,5))\n",
    "plt.title('Distribution of Average Scores', size=16, pad=10)\n",
    "\n",
    "sns.distplot(df['score'])\n",
    "plt.axvline(df['score'].mean(), color='r', )\n",
    "\n",
    "plt.xlabel('Score', size=14)\n",
    "plt.ylabel('Frequency', size=14)\n",
    "\n",
    "plt.xticks(size=12)\n",
    "plt.yticks(size=12);"
   ]
  },
  {
   "cell_type": "markdown",
   "metadata": {},
   "source": [
    "#### Save clean dataframe to be used to model"
   ]
  },
  {
   "cell_type": "code",
   "execution_count": 57,
   "metadata": {},
   "outputs": [],
   "source": [
    "df.to_csv('./data/reddit_clean.csv', index_label=False)"
   ]
  }
 ],
 "metadata": {
  "kernelspec": {
   "display_name": "Python 3",
   "language": "python",
   "name": "python3"
  },
  "language_info": {
   "codemirror_mode": {
    "name": "ipython",
    "version": 3
   },
   "file_extension": ".py",
   "mimetype": "text/x-python",
   "name": "python",
   "nbconvert_exporter": "python",
   "pygments_lexer": "ipython3",
   "version": "3.7.2"
  }
 },
 "nbformat": 4,
 "nbformat_minor": 2
}
